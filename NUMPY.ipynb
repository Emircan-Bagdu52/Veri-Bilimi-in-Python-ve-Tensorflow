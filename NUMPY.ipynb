{
 "cells": [
  {
   "cell_type": "code",
   "execution_count": 1,
   "id": "b79a42f5",
   "metadata": {},
   "outputs": [],
   "source": [
    "import numpy as np "
   ]
  },
  {
   "cell_type": "markdown",
   "id": "f6d6d122",
   "metadata": {},
   "source": [
    "# Numpy array"
   ]
  },
  {
   "cell_type": "code",
   "execution_count": 2,
   "id": "a2cd3aac",
   "metadata": {},
   "outputs": [],
   "source": [
    "benimListem=[20,30,40]"
   ]
  },
  {
   "cell_type": "code",
   "execution_count": 3,
   "id": "525d8454",
   "metadata": {},
   "outputs": [
    {
     "data": {
      "text/plain": [
       "list"
      ]
     },
     "execution_count": 3,
     "metadata": {},
     "output_type": "execute_result"
    }
   ],
   "source": [
    "type(benimListem)"
   ]
  },
  {
   "cell_type": "code",
   "execution_count": 4,
   "id": "e3cee1a4",
   "metadata": {},
   "outputs": [
    {
     "data": {
      "text/plain": [
       "array([20, 30, 40])"
      ]
     },
     "execution_count": 4,
     "metadata": {},
     "output_type": "execute_result"
    }
   ],
   "source": [
    "np.array(benimListem)"
   ]
  },
  {
   "cell_type": "code",
   "execution_count": 5,
   "id": "3872319e",
   "metadata": {},
   "outputs": [
    {
     "data": {
      "text/plain": [
       "numpy.ndarray"
      ]
     },
     "execution_count": 5,
     "metadata": {},
     "output_type": "execute_result"
    }
   ],
   "source": [
    "type(np.array(benimListem))"
   ]
  },
  {
   "cell_type": "code",
   "execution_count": 6,
   "id": "38cf7fa5",
   "metadata": {},
   "outputs": [],
   "source": [
    "matrixListesi=[[10,20,30],[20,30,40],[30,40,50]]"
   ]
  },
  {
   "cell_type": "code",
   "execution_count": 7,
   "id": "e71f0f61",
   "metadata": {},
   "outputs": [
    {
     "data": {
      "text/plain": [
       "20"
      ]
     },
     "execution_count": 7,
     "metadata": {},
     "output_type": "execute_result"
    }
   ],
   "source": [
    "matrixListesi[1][0]"
   ]
  },
  {
   "cell_type": "code",
   "execution_count": 8,
   "id": "1efe363a",
   "metadata": {},
   "outputs": [
    {
     "data": {
      "text/plain": [
       "array([[10, 20, 30],\n",
       "       [20, 30, 40],\n",
       "       [30, 40, 50]])"
      ]
     },
     "execution_count": 8,
     "metadata": {},
     "output_type": "execute_result"
    }
   ],
   "source": [
    "np.array(matrixListesi)"
   ]
  },
  {
   "cell_type": "markdown",
   "id": "a5d8abba",
   "metadata": {},
   "source": [
    "# arange\n",
    "\n"
   ]
  },
  {
   "cell_type": "code",
   "execution_count": 9,
   "id": "0bd73a7c",
   "metadata": {},
   "outputs": [
    {
     "data": {
      "text/plain": [
       "[0, 1, 2, 3, 4, 5, 6, 7, 8, 9]"
      ]
     },
     "execution_count": 9,
     "metadata": {},
     "output_type": "execute_result"
    }
   ],
   "source": [
    "list(range(0,10))#liste oluşturduk burada"
   ]
  },
  {
   "cell_type": "code",
   "execution_count": 10,
   "id": "4920e1ab",
   "metadata": {},
   "outputs": [
    {
     "data": {
      "text/plain": [
       "list"
      ]
     },
     "execution_count": 10,
     "metadata": {},
     "output_type": "execute_result"
    }
   ],
   "source": [
    "type(list(range(0,10)))"
   ]
  },
  {
   "cell_type": "code",
   "execution_count": 11,
   "id": "1749fa8f",
   "metadata": {},
   "outputs": [
    {
     "data": {
      "text/plain": [
       "array([0, 1, 2, 3, 4, 5, 6, 7, 8, 9])"
      ]
     },
     "execution_count": 11,
     "metadata": {},
     "output_type": "execute_result"
    }
   ],
   "source": [
    "np.arange(0,10)#burada ise bir dizi oluşturduk"
   ]
  },
  {
   "cell_type": "code",
   "execution_count": 12,
   "id": "2dc587df",
   "metadata": {},
   "outputs": [
    {
     "data": {
      "text/plain": [
       "numpy.ndarray"
      ]
     },
     "execution_count": 12,
     "metadata": {},
     "output_type": "execute_result"
    }
   ],
   "source": [
    "type(np.arange(0,10))"
   ]
  },
  {
   "cell_type": "code",
   "execution_count": 13,
   "id": "d095b21d",
   "metadata": {},
   "outputs": [
    {
     "data": {
      "text/plain": [
       "array([ 0,  2,  4,  6,  8, 10, 12, 14, 16, 18])"
      ]
     },
     "execution_count": 13,
     "metadata": {},
     "output_type": "execute_result"
    }
   ],
   "source": [
    "np.arange(0,20,2)#2 şer 2 şer artan şekilde dizi oluşturuyor"
   ]
  },
  {
   "cell_type": "markdown",
   "id": "4ed2c9b0",
   "metadata": {},
   "source": [
    "# zeros\n"
   ]
  },
  {
   "cell_type": "code",
   "execution_count": 14,
   "id": "68a2551f",
   "metadata": {},
   "outputs": [
    {
     "data": {
      "text/plain": [
       "array([0., 0., 0., 0., 0.])"
      ]
     },
     "execution_count": 14,
     "metadata": {},
     "output_type": "execute_result"
    }
   ],
   "source": [
    "np.zeros(5)"
   ]
  },
  {
   "cell_type": "code",
   "execution_count": 15,
   "id": "63795a1c",
   "metadata": {},
   "outputs": [
    {
     "data": {
      "text/plain": [
       "array([[0., 0., 0., 0., 0., 0., 0., 0., 0.],\n",
       "       [0., 0., 0., 0., 0., 0., 0., 0., 0.],\n",
       "       [0., 0., 0., 0., 0., 0., 0., 0., 0.],\n",
       "       [0., 0., 0., 0., 0., 0., 0., 0., 0.],\n",
       "       [0., 0., 0., 0., 0., 0., 0., 0., 0.],\n",
       "       [0., 0., 0., 0., 0., 0., 0., 0., 0.],\n",
       "       [0., 0., 0., 0., 0., 0., 0., 0., 0.],\n",
       "       [0., 0., 0., 0., 0., 0., 0., 0., 0.],\n",
       "       [0., 0., 0., 0., 0., 0., 0., 0., 0.]])"
      ]
     },
     "execution_count": 15,
     "metadata": {},
     "output_type": "execute_result"
    }
   ],
   "source": [
    "np.zeros((9,9))"
   ]
  },
  {
   "cell_type": "code",
   "execution_count": 16,
   "id": "ec58adb5",
   "metadata": {},
   "outputs": [
    {
     "data": {
      "text/plain": [
       "array([[1., 1., 1., 1., 1., 1., 1., 1., 1.],\n",
       "       [1., 1., 1., 1., 1., 1., 1., 1., 1.],\n",
       "       [1., 1., 1., 1., 1., 1., 1., 1., 1.],\n",
       "       [1., 1., 1., 1., 1., 1., 1., 1., 1.],\n",
       "       [1., 1., 1., 1., 1., 1., 1., 1., 1.],\n",
       "       [1., 1., 1., 1., 1., 1., 1., 1., 1.],\n",
       "       [1., 1., 1., 1., 1., 1., 1., 1., 1.],\n",
       "       [1., 1., 1., 1., 1., 1., 1., 1., 1.],\n",
       "       [1., 1., 1., 1., 1., 1., 1., 1., 1.]])"
      ]
     },
     "execution_count": 16,
     "metadata": {},
     "output_type": "execute_result"
    }
   ],
   "source": [
    "np.ones((9,9))"
   ]
  },
  {
   "cell_type": "markdown",
   "id": "de712335",
   "metadata": {},
   "source": [
    "# linspace"
   ]
  },
  {
   "cell_type": "code",
   "execution_count": 17,
   "id": "7ab65698",
   "metadata": {},
   "outputs": [
    {
     "data": {
      "text/plain": [
       "array([ 0.        ,  1.05263158,  2.10526316,  3.15789474,  4.21052632,\n",
       "        5.26315789,  6.31578947,  7.36842105,  8.42105263,  9.47368421,\n",
       "       10.52631579, 11.57894737, 12.63157895, 13.68421053, 14.73684211,\n",
       "       15.78947368, 16.84210526, 17.89473684, 18.94736842, 20.        ])"
      ]
     },
     "execution_count": 17,
     "metadata": {},
     "output_type": "execute_result"
    }
   ],
   "source": [
    "np.linspace(0,20,20)"
   ]
  },
  {
   "cell_type": "markdown",
   "id": "88840460",
   "metadata": {},
   "source": [
    "# eye"
   ]
  },
  {
   "cell_type": "code",
   "execution_count": 18,
   "id": "d138ab01",
   "metadata": {},
   "outputs": [
    {
     "data": {
      "text/plain": [
       "array([[1., 0., 0.],\n",
       "       [0., 1., 0.],\n",
       "       [0., 0., 1.]])"
      ]
     },
     "execution_count": 18,
     "metadata": {},
     "output_type": "execute_result"
    }
   ],
   "source": [
    "np.eye(3)"
   ]
  },
  {
   "cell_type": "markdown",
   "id": "af2fc12b",
   "metadata": {},
   "source": [
    "# random"
   ]
  },
  {
   "cell_type": "code",
   "execution_count": 19,
   "id": "a92ec1e3",
   "metadata": {},
   "outputs": [
    {
     "data": {
      "text/plain": [
       "array([ 0.05478198,  0.56019967,  0.76931714,  0.22627661, -1.38526804,\n",
       "       -0.40820242, -1.87254605,  0.12216718])"
      ]
     },
     "execution_count": 19,
     "metadata": {},
     "output_type": "execute_result"
    }
   ],
   "source": [
    "np.random.randn(8)"
   ]
  },
  {
   "cell_type": "code",
   "execution_count": 20,
   "id": "0e2585c4",
   "metadata": {},
   "outputs": [
    {
     "data": {
      "text/plain": [
       "array([[ 0.88305076,  1.15913233,  0.57299685,  0.33960924],\n",
       "       [-1.8043461 ,  0.7028001 , -0.03004265, -0.66638341],\n",
       "       [-0.04657207, -2.03243327, -0.70230844,  1.28395857],\n",
       "       [ 0.51901892, -1.16880991, -0.2884965 , -1.41024   ]])"
      ]
     },
     "execution_count": 20,
     "metadata": {},
     "output_type": "execute_result"
    }
   ],
   "source": [
    "np.random.randn(4,4) #random matris oluşturma"
   ]
  },
  {
   "cell_type": "code",
   "execution_count": 21,
   "id": "46790262",
   "metadata": {},
   "outputs": [
    {
     "data": {
      "text/plain": [
       "2"
      ]
     },
     "execution_count": 21,
     "metadata": {},
     "output_type": "execute_result"
    }
   ],
   "source": [
    "np.random.randint(1,10) #random sayı 10 dağil değil "
   ]
  },
  {
   "cell_type": "code",
   "execution_count": 22,
   "id": "551d7362",
   "metadata": {},
   "outputs": [
    {
     "data": {
      "text/plain": [
       "array([172, 269, 192, 164,  35])"
      ]
     },
     "execution_count": 22,
     "metadata": {},
     "output_type": "execute_result"
    }
   ],
   "source": [
    "np.random.randint(1,300,5) # random 5 tane sayı"
   ]
  },
  {
   "cell_type": "code",
   "execution_count": 23,
   "id": "44f768d4",
   "metadata": {},
   "outputs": [],
   "source": [
    "benimRandomDizim=np.random.randint(0,100,30)"
   ]
  },
  {
   "cell_type": "code",
   "execution_count": 24,
   "id": "18eac34d",
   "metadata": {},
   "outputs": [
    {
     "data": {
      "text/plain": [
       "array([ 9, 84,  0, 77, 50, 81, 77, 91,  3, 41, 63, 71, 12, 64,  0, 10,  3,\n",
       "       98, 63, 98, 62, 69, 34, 71,  1, 72, 27, 22, 77, 81])"
      ]
     },
     "execution_count": 24,
     "metadata": {},
     "output_type": "execute_result"
    }
   ],
   "source": [
    "benimRandomDizim"
   ]
  },
  {
   "cell_type": "markdown",
   "id": "512c69bf",
   "metadata": {},
   "source": [
    "# numpy dizi metotları\n"
   ]
  },
  {
   "cell_type": "code",
   "execution_count": 25,
   "id": "c2461382",
   "metadata": {},
   "outputs": [
    {
     "data": {
      "text/plain": [
       "array([[ 9, 84,  0, 77, 50, 81],\n",
       "       [77, 91,  3, 41, 63, 71],\n",
       "       [12, 64,  0, 10,  3, 98],\n",
       "       [63, 98, 62, 69, 34, 71],\n",
       "       [ 1, 72, 27, 22, 77, 81]])"
      ]
     },
     "execution_count": 25,
     "metadata": {},
     "output_type": "execute_result"
    }
   ],
   "source": [
    "benimRandomDizim.reshape(5,6)"
   ]
  },
  {
   "cell_type": "code",
   "execution_count": 26,
   "id": "37a6f614",
   "metadata": {},
   "outputs": [
    {
     "data": {
      "text/plain": [
       "98"
      ]
     },
     "execution_count": 26,
     "metadata": {},
     "output_type": "execute_result"
    }
   ],
   "source": [
    "benimRandomDizim.max()"
   ]
  },
  {
   "cell_type": "code",
   "execution_count": 27,
   "id": "db99d73f",
   "metadata": {},
   "outputs": [
    {
     "data": {
      "text/plain": [
       "0"
      ]
     },
     "execution_count": 27,
     "metadata": {},
     "output_type": "execute_result"
    }
   ],
   "source": [
    "benimRandomDizim.min()"
   ]
  },
  {
   "cell_type": "code",
   "execution_count": 28,
   "id": "19458488",
   "metadata": {},
   "outputs": [
    {
     "data": {
      "text/plain": [
       "17"
      ]
     },
     "execution_count": 28,
     "metadata": {},
     "output_type": "execute_result"
    }
   ],
   "source": [
    "benimRandomDizim.argmax()"
   ]
  },
  {
   "cell_type": "code",
   "execution_count": 29,
   "id": "ea9b5012",
   "metadata": {},
   "outputs": [
    {
     "data": {
      "text/plain": [
       "2"
      ]
     },
     "execution_count": 29,
     "metadata": {},
     "output_type": "execute_result"
    }
   ],
   "source": [
    "benimRandomDizim.argmin()"
   ]
  },
  {
   "cell_type": "code",
   "execution_count": 30,
   "id": "3855b7ff",
   "metadata": {},
   "outputs": [
    {
     "data": {
      "text/plain": [
       "array([ 9, 84,  0, 77, 50, 81, 77, 91,  3, 41, 63, 71, 12, 64,  0, 10,  3,\n",
       "       98, 63, 98, 62, 69, 34, 71,  1, 72, 27, 22, 77, 81])"
      ]
     },
     "execution_count": 30,
     "metadata": {},
     "output_type": "execute_result"
    }
   ],
   "source": [
    "benimRandomDizim"
   ]
  },
  {
   "cell_type": "code",
   "execution_count": 31,
   "id": "b6868ad5",
   "metadata": {},
   "outputs": [
    {
     "data": {
      "text/plain": [
       "(30,)"
      ]
     },
     "execution_count": 31,
     "metadata": {},
     "output_type": "execute_result"
    }
   ],
   "source": [
    "benimRandomDizim.shape"
   ]
  },
  {
   "cell_type": "code",
   "execution_count": 32,
   "id": "f1a75a8a",
   "metadata": {},
   "outputs": [],
   "source": [
    "reshapeDizim=benimRandomDizim.reshape(5,6)"
   ]
  },
  {
   "cell_type": "code",
   "execution_count": 33,
   "id": "a00984a3",
   "metadata": {},
   "outputs": [
    {
     "data": {
      "text/plain": [
       "array([[ 9, 84,  0, 77, 50, 81],\n",
       "       [77, 91,  3, 41, 63, 71],\n",
       "       [12, 64,  0, 10,  3, 98],\n",
       "       [63, 98, 62, 69, 34, 71],\n",
       "       [ 1, 72, 27, 22, 77, 81]])"
      ]
     },
     "execution_count": 33,
     "metadata": {},
     "output_type": "execute_result"
    }
   ],
   "source": [
    "reshapeDizim"
   ]
  },
  {
   "cell_type": "code",
   "execution_count": 34,
   "id": "c8f36f5c",
   "metadata": {},
   "outputs": [
    {
     "data": {
      "text/plain": [
       "(5, 6)"
      ]
     },
     "execution_count": 34,
     "metadata": {},
     "output_type": "execute_result"
    }
   ],
   "source": [
    "reshapeDizim.shape"
   ]
  },
  {
   "cell_type": "markdown",
   "id": "1c537c04",
   "metadata": {},
   "source": [
    "## Operasyonlar"
   ]
  },
  {
   "cell_type": "code",
   "execution_count": 35,
   "id": "47290e03",
   "metadata": {},
   "outputs": [],
   "source": [
    "benimDizim=np.arange(0,15)"
   ]
  },
  {
   "cell_type": "code",
   "execution_count": 36,
   "id": "7c93d7fa",
   "metadata": {},
   "outputs": [
    {
     "data": {
      "text/plain": [
       "array([ 0,  1,  2,  3,  4,  5,  6,  7,  8,  9, 10, 11, 12, 13, 14])"
      ]
     },
     "execution_count": 36,
     "metadata": {},
     "output_type": "execute_result"
    }
   ],
   "source": [
    "benimDizim"
   ]
  },
  {
   "cell_type": "code",
   "execution_count": 37,
   "id": "61814620",
   "metadata": {},
   "outputs": [
    {
     "data": {
      "text/plain": [
       "5"
      ]
     },
     "execution_count": 37,
     "metadata": {},
     "output_type": "execute_result"
    }
   ],
   "source": [
    "benimDizim[5]"
   ]
  },
  {
   "cell_type": "code",
   "execution_count": 38,
   "id": "df74f678",
   "metadata": {},
   "outputs": [
    {
     "data": {
      "text/plain": [
       "array([3, 4, 5, 6, 7])"
      ]
     },
     "execution_count": 38,
     "metadata": {},
     "output_type": "execute_result"
    }
   ],
   "source": [
    "benimDizim[3:8]"
   ]
  },
  {
   "cell_type": "code",
   "execution_count": 39,
   "id": "4598a273",
   "metadata": {},
   "outputs": [],
   "source": [
    "benimDizim[3:8]=-5"
   ]
  },
  {
   "cell_type": "code",
   "execution_count": 40,
   "id": "65b1ad3e",
   "metadata": {},
   "outputs": [
    {
     "data": {
      "text/plain": [
       "array([ 0,  1,  2, -5, -5, -5, -5, -5,  8,  9, 10, 11, 12, 13, 14])"
      ]
     },
     "execution_count": 40,
     "metadata": {},
     "output_type": "execute_result"
    }
   ],
   "source": [
    "benimDizim"
   ]
  },
  {
   "cell_type": "code",
   "execution_count": 41,
   "id": "2c5c5c8d",
   "metadata": {},
   "outputs": [],
   "source": [
    "baskaDizi=np.arange(0,24)"
   ]
  },
  {
   "cell_type": "code",
   "execution_count": 42,
   "id": "15538fe2",
   "metadata": {},
   "outputs": [
    {
     "data": {
      "text/plain": [
       "array([ 0,  1,  2,  3,  4,  5,  6,  7,  8,  9, 10, 11, 12, 13, 14, 15, 16,\n",
       "       17, 18, 19, 20, 21, 22, 23])"
      ]
     },
     "execution_count": 42,
     "metadata": {},
     "output_type": "execute_result"
    }
   ],
   "source": [
    "baskaDizi"
   ]
  },
  {
   "cell_type": "code",
   "execution_count": 43,
   "id": "13f53203",
   "metadata": {},
   "outputs": [],
   "source": [
    "slicingDizisi=baskaDizi[4:9]"
   ]
  },
  {
   "cell_type": "code",
   "execution_count": 44,
   "id": "458612f8",
   "metadata": {},
   "outputs": [
    {
     "data": {
      "text/plain": [
       "array([4, 5, 6, 7, 8])"
      ]
     },
     "execution_count": 44,
     "metadata": {},
     "output_type": "execute_result"
    }
   ],
   "source": [
    "slicingDizisi"
   ]
  },
  {
   "cell_type": "code",
   "execution_count": 45,
   "id": "291222d7",
   "metadata": {},
   "outputs": [
    {
     "data": {
      "text/plain": [
       "array([ 0,  1,  2,  3,  4,  5,  6,  7,  8,  9, 10, 11, 12, 13, 14, 15, 16,\n",
       "       17, 18, 19, 20, 21, 22, 23])"
      ]
     },
     "execution_count": 45,
     "metadata": {},
     "output_type": "execute_result"
    }
   ],
   "source": [
    "baskaDizi"
   ]
  },
  {
   "cell_type": "code",
   "execution_count": 46,
   "id": "be081d32",
   "metadata": {},
   "outputs": [],
   "source": [
    "slicingDizisi[:]=700"
   ]
  },
  {
   "cell_type": "code",
   "execution_count": 47,
   "id": "86d5bdda",
   "metadata": {},
   "outputs": [
    {
     "data": {
      "text/plain": [
       "array([700, 700, 700, 700, 700])"
      ]
     },
     "execution_count": 47,
     "metadata": {},
     "output_type": "execute_result"
    }
   ],
   "source": [
    "slicingDizisi"
   ]
  },
  {
   "cell_type": "code",
   "execution_count": 48,
   "id": "8333ba1b",
   "metadata": {},
   "outputs": [
    {
     "data": {
      "text/plain": [
       "array([  0,   1,   2,   3, 700, 700, 700, 700, 700,   9,  10,  11,  12,\n",
       "        13,  14,  15,  16,  17,  18,  19,  20,  21,  22,  23])"
      ]
     },
     "execution_count": 48,
     "metadata": {},
     "output_type": "execute_result"
    }
   ],
   "source": [
    "baskaDizi"
   ]
  },
  {
   "cell_type": "code",
   "execution_count": null,
   "id": "c96d0575",
   "metadata": {},
   "outputs": [],
   "source": []
  },
  {
   "cell_type": "code",
   "execution_count": 49,
   "id": "59c538e0",
   "metadata": {},
   "outputs": [],
   "source": [
    "ornekDizi=np.arange(0,24)"
   ]
  },
  {
   "cell_type": "code",
   "execution_count": 50,
   "id": "c7c31f68",
   "metadata": {},
   "outputs": [
    {
     "data": {
      "text/plain": [
       "array([ 0,  1,  2,  3,  4,  5,  6,  7,  8,  9, 10, 11, 12, 13, 14, 15, 16,\n",
       "       17, 18, 19, 20, 21, 22, 23])"
      ]
     },
     "execution_count": 50,
     "metadata": {},
     "output_type": "execute_result"
    }
   ],
   "source": [
    "ornekDizi"
   ]
  },
  {
   "cell_type": "code",
   "execution_count": 51,
   "id": "50ade768",
   "metadata": {},
   "outputs": [],
   "source": [
    "ornekDiziKopyasi=ornekDizi.copy()"
   ]
  },
  {
   "cell_type": "code",
   "execution_count": 52,
   "id": "6efa4062",
   "metadata": {},
   "outputs": [
    {
     "data": {
      "text/plain": [
       "array([ 0,  1,  2,  3,  4,  5,  6,  7,  8,  9, 10, 11, 12, 13, 14, 15, 16,\n",
       "       17, 18, 19, 20, 21, 22, 23])"
      ]
     },
     "execution_count": 52,
     "metadata": {},
     "output_type": "execute_result"
    }
   ],
   "source": [
    "ornekDiziKopyasi"
   ]
  },
  {
   "cell_type": "code",
   "execution_count": 53,
   "id": "e8581a82",
   "metadata": {},
   "outputs": [
    {
     "data": {
      "text/plain": [
       "array([ 0,  1,  2,  3,  4,  5,  6,  7,  8,  9, 10, 11, 12, 13, 14, 15, 16,\n",
       "       17, 18, 19, 20, 21, 22, 23])"
      ]
     },
     "execution_count": 53,
     "metadata": {},
     "output_type": "execute_result"
    }
   ],
   "source": [
    "ornekDizi"
   ]
  },
  {
   "cell_type": "code",
   "execution_count": 54,
   "id": "d1ace977",
   "metadata": {},
   "outputs": [],
   "source": [
    "ornekDiziKopyasiSlicing=ornekDiziKopyasi[3:8]"
   ]
  },
  {
   "cell_type": "code",
   "execution_count": 55,
   "id": "5519112b",
   "metadata": {},
   "outputs": [],
   "source": [
    "ornekDiziKopyasiSlicing[:]=800"
   ]
  },
  {
   "cell_type": "code",
   "execution_count": 56,
   "id": "abbdb82b",
   "metadata": {},
   "outputs": [
    {
     "data": {
      "text/plain": [
       "array([800, 800, 800, 800, 800])"
      ]
     },
     "execution_count": 56,
     "metadata": {},
     "output_type": "execute_result"
    }
   ],
   "source": [
    "ornekDiziKopyasiSlicing"
   ]
  },
  {
   "cell_type": "code",
   "execution_count": 57,
   "id": "62a68f96",
   "metadata": {},
   "outputs": [
    {
     "data": {
      "text/plain": [
       "array([  0,   1,   2, 800, 800, 800, 800, 800,   8,   9,  10,  11,  12,\n",
       "        13,  14,  15,  16,  17,  18,  19,  20,  21,  22,  23])"
      ]
     },
     "execution_count": 57,
     "metadata": {},
     "output_type": "execute_result"
    }
   ],
   "source": [
    "ornekDiziKopyasi"
   ]
  },
  {
   "cell_type": "code",
   "execution_count": 58,
   "id": "9ada9678",
   "metadata": {},
   "outputs": [
    {
     "data": {
      "text/plain": [
       "array([ 0,  1,  2,  3,  4,  5,  6,  7,  8,  9, 10, 11, 12, 13, 14, 15, 16,\n",
       "       17, 18, 19, 20, 21, 22, 23])"
      ]
     },
     "execution_count": 58,
     "metadata": {},
     "output_type": "execute_result"
    }
   ],
   "source": [
    "ornekDizi"
   ]
  },
  {
   "cell_type": "markdown",
   "id": "15753ec4",
   "metadata": {},
   "source": [
    "## Matrix "
   ]
  },
  {
   "cell_type": "code",
   "execution_count": 59,
   "id": "4e22830d",
   "metadata": {},
   "outputs": [],
   "source": [
    "benimListem=[[10,20,30],[20,30,40],[30,40,50]]"
   ]
  },
  {
   "cell_type": "code",
   "execution_count": 60,
   "id": "da2e4a4a",
   "metadata": {},
   "outputs": [],
   "source": [
    "benimMatrixDizim=np.array(benimListem)"
   ]
  },
  {
   "cell_type": "code",
   "execution_count": 61,
   "id": "4e211373",
   "metadata": {},
   "outputs": [
    {
     "data": {
      "text/plain": [
       "array([[10, 20, 30],\n",
       "       [20, 30, 40],\n",
       "       [30, 40, 50]])"
      ]
     },
     "execution_count": 61,
     "metadata": {},
     "output_type": "execute_result"
    }
   ],
   "source": [
    "benimMatrixDizim"
   ]
  },
  {
   "cell_type": "code",
   "execution_count": 62,
   "id": "694b8b48",
   "metadata": {},
   "outputs": [
    {
     "data": {
      "text/plain": [
       "array([10, 20, 30])"
      ]
     },
     "execution_count": 62,
     "metadata": {},
     "output_type": "execute_result"
    }
   ],
   "source": [
    "benimMatrixDizim[0]"
   ]
  },
  {
   "cell_type": "code",
   "execution_count": 63,
   "id": "bcbab66b",
   "metadata": {},
   "outputs": [
    {
     "data": {
      "text/plain": [
       "40"
      ]
     },
     "execution_count": 63,
     "metadata": {},
     "output_type": "execute_result"
    }
   ],
   "source": [
    "benimMatrixDizim[1][2]"
   ]
  },
  {
   "cell_type": "code",
   "execution_count": 64,
   "id": "eaced37c",
   "metadata": {},
   "outputs": [
    {
     "data": {
      "text/plain": [
       "40"
      ]
     },
     "execution_count": 64,
     "metadata": {},
     "output_type": "execute_result"
    }
   ],
   "source": [
    "benimMatrixDizim[1,2]"
   ]
  },
  {
   "cell_type": "code",
   "execution_count": 65,
   "id": "c81c1b2a",
   "metadata": {},
   "outputs": [
    {
     "data": {
      "text/plain": [
       "array([30, 40, 50])"
      ]
     },
     "execution_count": 65,
     "metadata": {},
     "output_type": "execute_result"
    }
   ],
   "source": [
    "benimMatrixDizim[0:,2]"
   ]
  },
  {
   "cell_type": "code",
   "execution_count": 66,
   "id": "fb31c183",
   "metadata": {},
   "outputs": [],
   "source": [
    "yeniListe=[[0,1,2,3,4],[5,6,7,8,9],[10,11,12,13,14],[15,16,17,18,19],[20,21,22,23,24]]"
   ]
  },
  {
   "cell_type": "code",
   "execution_count": 67,
   "id": "5abf1941",
   "metadata": {},
   "outputs": [],
   "source": [
    "yeniMatrix=np.array(yeniListe)"
   ]
  },
  {
   "cell_type": "code",
   "execution_count": 68,
   "id": "879affef",
   "metadata": {},
   "outputs": [
    {
     "data": {
      "text/plain": [
       "array([[ 0,  1,  2,  3,  4],\n",
       "       [ 5,  6,  7,  8,  9],\n",
       "       [10, 11, 12, 13, 14],\n",
       "       [15, 16, 17, 18, 19],\n",
       "       [20, 21, 22, 23, 24]])"
      ]
     },
     "execution_count": 68,
     "metadata": {},
     "output_type": "execute_result"
    }
   ],
   "source": [
    "yeniMatrix"
   ]
  },
  {
   "cell_type": "code",
   "execution_count": 69,
   "id": "da5888f2",
   "metadata": {},
   "outputs": [
    {
     "data": {
      "text/plain": [
       "array([[20, 21, 22, 23, 24],\n",
       "       [10, 11, 12, 13, 14],\n",
       "       [ 0,  1,  2,  3,  4]])"
      ]
     },
     "execution_count": 69,
     "metadata": {},
     "output_type": "execute_result"
    }
   ],
   "source": [
    "yeniMatrix[[4,2,0]]"
   ]
  },
  {
   "cell_type": "markdown",
   "id": "df591412",
   "metadata": {},
   "source": [
    "## operasyonlar "
   ]
  },
  {
   "cell_type": "code",
   "execution_count": 70,
   "id": "a8cc02d6",
   "metadata": {},
   "outputs": [],
   "source": [
    "yeniBirDizi=np.random.randint(1,100,20)"
   ]
  },
  {
   "cell_type": "code",
   "execution_count": 71,
   "id": "902af624",
   "metadata": {},
   "outputs": [
    {
     "data": {
      "text/plain": [
       "array([20, 19, 39,  6, 54, 98, 71, 89, 17, 33, 31, 73, 77, 25,  7, 48, 93,\n",
       "       47,  1, 88])"
      ]
     },
     "execution_count": 71,
     "metadata": {},
     "output_type": "execute_result"
    }
   ],
   "source": [
    "yeniBirDizi"
   ]
  },
  {
   "cell_type": "code",
   "execution_count": 72,
   "id": "f66dd853",
   "metadata": {},
   "outputs": [
    {
     "data": {
      "text/plain": [
       "array([False, False,  True, False,  True,  True,  True,  True, False,\n",
       "        True,  True,  True,  True,  True, False,  True,  True,  True,\n",
       "       False,  True])"
      ]
     },
     "execution_count": 72,
     "metadata": {},
     "output_type": "execute_result"
    }
   ],
   "source": [
    "yeniBirDizi>24"
   ]
  },
  {
   "cell_type": "code",
   "execution_count": 73,
   "id": "8b43b5b4",
   "metadata": {},
   "outputs": [],
   "source": [
    "sonucDizisi=yeniBirDizi>24"
   ]
  },
  {
   "cell_type": "code",
   "execution_count": 74,
   "id": "bf9e633e",
   "metadata": {},
   "outputs": [
    {
     "data": {
      "text/plain": [
       "array([False, False,  True, False,  True,  True,  True,  True, False,\n",
       "        True,  True,  True,  True,  True, False,  True,  True,  True,\n",
       "       False,  True])"
      ]
     },
     "execution_count": 74,
     "metadata": {},
     "output_type": "execute_result"
    }
   ],
   "source": [
    "sonucDizisi"
   ]
  },
  {
   "cell_type": "code",
   "execution_count": 75,
   "id": "53f6ddf2",
   "metadata": {},
   "outputs": [
    {
     "data": {
      "text/plain": [
       "array([20, 19, 39,  6, 54, 98, 71, 89, 17, 33, 31, 73, 77, 25,  7, 48, 93,\n",
       "       47,  1, 88])"
      ]
     },
     "execution_count": 75,
     "metadata": {},
     "output_type": "execute_result"
    }
   ],
   "source": [
    "yeniBirDizi"
   ]
  },
  {
   "cell_type": "code",
   "execution_count": 76,
   "id": "96677b29",
   "metadata": {},
   "outputs": [
    {
     "data": {
      "text/plain": [
       "array([39, 54, 98, 71, 89, 33, 31, 73, 77, 25, 48, 93, 47, 88])"
      ]
     },
     "execution_count": 76,
     "metadata": {},
     "output_type": "execute_result"
    }
   ],
   "source": [
    "yeniBirDizi[sonucDizisi]"
   ]
  },
  {
   "cell_type": "code",
   "execution_count": 77,
   "id": "0c2e0306",
   "metadata": {},
   "outputs": [],
   "source": [
    "sonDizi=np.arange(0,24)"
   ]
  },
  {
   "cell_type": "code",
   "execution_count": 78,
   "id": "44374218",
   "metadata": {},
   "outputs": [
    {
     "data": {
      "text/plain": [
       "array([ 0,  1,  2,  3,  4,  5,  6,  7,  8,  9, 10, 11, 12, 13, 14, 15, 16,\n",
       "       17, 18, 19, 20, 21, 22, 23])"
      ]
     },
     "execution_count": 78,
     "metadata": {},
     "output_type": "execute_result"
    }
   ],
   "source": [
    "sonDizi"
   ]
  },
  {
   "cell_type": "code",
   "execution_count": 79,
   "id": "243cc250",
   "metadata": {},
   "outputs": [
    {
     "data": {
      "text/plain": [
       "array([ 0,  2,  4,  6,  8, 10, 12, 14, 16, 18, 20, 22, 24, 26, 28, 30, 32,\n",
       "       34, 36, 38, 40, 42, 44, 46])"
      ]
     },
     "execution_count": 79,
     "metadata": {},
     "output_type": "execute_result"
    }
   ],
   "source": [
    "sonDizi+sonDizi"
   ]
  },
  {
   "cell_type": "code",
   "execution_count": 80,
   "id": "450e33d0",
   "metadata": {},
   "outputs": [
    {
     "data": {
      "text/plain": [
       "array([ 0,  1,  2,  3,  4,  5,  6,  7,  8,  9, 10, 11, 12, 13, 14, 15, 16,\n",
       "       17, 18, 19, 20, 21, 22, 23])"
      ]
     },
     "execution_count": 80,
     "metadata": {},
     "output_type": "execute_result"
    }
   ],
   "source": [
    "sonDizi"
   ]
  },
  {
   "cell_type": "code",
   "execution_count": 81,
   "id": "3400edc2",
   "metadata": {},
   "outputs": [
    {
     "data": {
      "text/plain": [
       "array([  0,   1,   4,   9,  16,  25,  36,  49,  64,  81, 100, 121, 144,\n",
       "       169, 196, 225, 256, 289, 324, 361, 400, 441, 484, 529])"
      ]
     },
     "execution_count": 81,
     "metadata": {},
     "output_type": "execute_result"
    }
   ],
   "source": [
    "sonDizi*sonDizi"
   ]
  },
  {
   "cell_type": "code",
   "execution_count": 82,
   "id": "fae46727",
   "metadata": {},
   "outputs": [
    {
     "data": {
      "text/plain": [
       "array([0, 0, 0, 0, 0, 0, 0, 0, 0, 0, 0, 0, 0, 0, 0, 0, 0, 0, 0, 0, 0, 0,\n",
       "       0, 0])"
      ]
     },
     "execution_count": 82,
     "metadata": {},
     "output_type": "execute_result"
    }
   ],
   "source": [
    "sonDizi- sonDizi"
   ]
  },
  {
   "cell_type": "code",
   "execution_count": 83,
   "id": "705afb35",
   "metadata": {},
   "outputs": [
    {
     "name": "stderr",
     "output_type": "stream",
     "text": [
      "C:\\Users\\emirc\\AppData\\Local\\Temp\\ipykernel_3908\\1954055075.py:1: RuntimeWarning: invalid value encountered in divide\n",
      "  sonDizi/sonDizi\n"
     ]
    },
    {
     "data": {
      "text/plain": [
       "array([nan,  1.,  1.,  1.,  1.,  1.,  1.,  1.,  1.,  1.,  1.,  1.,  1.,\n",
       "        1.,  1.,  1.,  1.,  1.,  1.,  1.,  1.,  1.,  1.,  1.])"
      ]
     },
     "execution_count": 83,
     "metadata": {},
     "output_type": "execute_result"
    }
   ],
   "source": [
    "sonDizi/sonDizi"
   ]
  },
  {
   "cell_type": "code",
   "execution_count": 84,
   "id": "3b4dc296",
   "metadata": {},
   "outputs": [
    {
     "data": {
      "text/plain": [
       "array([0.        , 1.        , 1.41421356, 1.73205081, 2.        ,\n",
       "       2.23606798, 2.44948974, 2.64575131, 2.82842712, 3.        ,\n",
       "       3.16227766, 3.31662479, 3.46410162, 3.60555128, 3.74165739,\n",
       "       3.87298335, 4.        , 4.12310563, 4.24264069, 4.35889894,\n",
       "       4.47213595, 4.58257569, 4.69041576, 4.79583152])"
      ]
     },
     "execution_count": 84,
     "metadata": {},
     "output_type": "execute_result"
    }
   ],
   "source": [
    "np.sqrt(sonDizi) ##karakök alma"
   ]
  },
  {
   "cell_type": "code",
   "execution_count": 85,
   "id": "e72349b4",
   "metadata": {},
   "outputs": [
    {
     "data": {
      "text/plain": [
       "23"
      ]
     },
     "execution_count": 85,
     "metadata": {},
     "output_type": "execute_result"
    }
   ],
   "source": [
    "np.max(sonDizi)"
   ]
  },
  {
   "cell_type": "code",
   "execution_count": 86,
   "id": "380c9922",
   "metadata": {},
   "outputs": [
    {
     "data": {
      "text/plain": [
       "0"
      ]
     },
     "execution_count": 86,
     "metadata": {},
     "output_type": "execute_result"
    }
   ],
   "source": [
    "np.min(sonDizi)"
   ]
  },
  {
   "cell_type": "code",
   "execution_count": 87,
   "id": "426335f3",
   "metadata": {},
   "outputs": [
    {
     "ename": "SyntaxError",
     "evalue": "invalid syntax (1462981225.py, line 1)",
     "output_type": "error",
     "traceback": [
      "\u001b[1;36m  Cell \u001b[1;32mIn[87], line 1\u001b[1;36m\u001b[0m\n\u001b[1;33m    https://numpy.org/\u001b[0m\n\u001b[1;37m          ^\u001b[0m\n\u001b[1;31mSyntaxError\u001b[0m\u001b[1;31m:\u001b[0m invalid syntax\n"
     ]
    }
   ],
   "source": [
    "https://numpy.org/"
   ]
  }
 ],
 "metadata": {
  "kernelspec": {
   "display_name": "Python 3 (ipykernel)",
   "language": "python",
   "name": "python3"
  },
  "language_info": {
   "codemirror_mode": {
    "name": "ipython",
    "version": 3
   },
   "file_extension": ".py",
   "mimetype": "text/x-python",
   "name": "python",
   "nbconvert_exporter": "python",
   "pygments_lexer": "ipython3",
   "version": "3.10.9"
  }
 },
 "nbformat": 4,
 "nbformat_minor": 5
}
