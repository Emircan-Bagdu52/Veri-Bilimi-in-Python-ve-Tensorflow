{
 "cells": [
  {
   "cell_type": "code",
   "execution_count": 1,
   "id": "fcba2a73",
   "metadata": {},
   "outputs": [],
   "source": [
    "import pandas as pd"
   ]
  },
  {
   "cell_type": "code",
   "execution_count": 3,
   "id": "3060eec4",
   "metadata": {},
   "outputs": [],
   "source": [
    "dataFrame=pd.read_excel(\"Kitap1.xlsx\")"
   ]
  },
  {
   "cell_type": "code",
   "execution_count": 4,
   "id": "8168cef0",
   "metadata": {},
   "outputs": [
    {
     "data": {
      "text/html": [
       "<div>\n",
       "<style scoped>\n",
       "    .dataframe tbody tr th:only-of-type {\n",
       "        vertical-align: middle;\n",
       "    }\n",
       "\n",
       "    .dataframe tbody tr th {\n",
       "        vertical-align: top;\n",
       "    }\n",
       "\n",
       "    .dataframe thead th {\n",
       "        text-align: right;\n",
       "    }\n",
       "</style>\n",
       "<table border=\"1\" class=\"dataframe\">\n",
       "  <thead>\n",
       "    <tr style=\"text-align: right;\">\n",
       "      <th></th>\n",
       "      <th>Unnamed: 0</th>\n",
       "      <th>MAAS</th>\n",
       "      <th>YAS</th>\n",
       "      <th>DEPARTMAN</th>\n",
       "    </tr>\n",
       "  </thead>\n",
       "  <tbody>\n",
       "    <tr>\n",
       "      <th>0</th>\n",
       "      <td>ATIL</td>\n",
       "      <td>100</td>\n",
       "      <td>40.0</td>\n",
       "      <td>YAZILIM</td>\n",
       "    </tr>\n",
       "    <tr>\n",
       "      <th>1</th>\n",
       "      <td>ZEYNEP</td>\n",
       "      <td>150</td>\n",
       "      <td>50.0</td>\n",
       "      <td>SATIŞ</td>\n",
       "    </tr>\n",
       "    <tr>\n",
       "      <th>2</th>\n",
       "      <td>MEHMET</td>\n",
       "      <td>200</td>\n",
       "      <td>30.0</td>\n",
       "      <td>NaN</td>\n",
       "    </tr>\n",
       "    <tr>\n",
       "      <th>3</th>\n",
       "      <td>AHMET</td>\n",
       "      <td>50</td>\n",
       "      <td>10.0</td>\n",
       "      <td>PAZARLAMA</td>\n",
       "    </tr>\n",
       "    <tr>\n",
       "      <th>4</th>\n",
       "      <td>ATLAS</td>\n",
       "      <td>150</td>\n",
       "      <td>NaN</td>\n",
       "      <td>FİNANS</td>\n",
       "    </tr>\n",
       "    <tr>\n",
       "      <th>5</th>\n",
       "      <td>FATMA</td>\n",
       "      <td>200</td>\n",
       "      <td>25.0</td>\n",
       "      <td>HUKUK</td>\n",
       "    </tr>\n",
       "  </tbody>\n",
       "</table>\n",
       "</div>"
      ],
      "text/plain": [
       "  Unnamed: 0  MAAS   YAS  DEPARTMAN\n",
       "0       ATIL   100  40.0    YAZILIM\n",
       "1     ZEYNEP   150  50.0      SATIŞ\n",
       "2     MEHMET   200  30.0        NaN\n",
       "3      AHMET    50  10.0  PAZARLAMA\n",
       "4      ATLAS   150   NaN     FİNANS\n",
       "5      FATMA   200  25.0      HUKUK"
      ]
     },
     "execution_count": 4,
     "metadata": {},
     "output_type": "execute_result"
    }
   ],
   "source": [
    "dataFrame"
   ]
  },
  {
   "cell_type": "code",
   "execution_count": 11,
   "id": "8a9ecc4f",
   "metadata": {},
   "outputs": [
    {
     "data": {
      "text/html": [
       "<div>\n",
       "<style scoped>\n",
       "    .dataframe tbody tr th:only-of-type {\n",
       "        vertical-align: middle;\n",
       "    }\n",
       "\n",
       "    .dataframe tbody tr th {\n",
       "        vertical-align: top;\n",
       "    }\n",
       "\n",
       "    .dataframe thead th {\n",
       "        text-align: right;\n",
       "    }\n",
       "</style>\n",
       "<table border=\"1\" class=\"dataframe\">\n",
       "  <thead>\n",
       "    <tr style=\"text-align: right;\">\n",
       "      <th></th>\n",
       "      <th>Unnamed: 0</th>\n",
       "      <th>MAAS</th>\n",
       "      <th>YAS</th>\n",
       "      <th>DEPARTMAN</th>\n",
       "    </tr>\n",
       "  </thead>\n",
       "  <tbody>\n",
       "    <tr>\n",
       "      <th>0</th>\n",
       "      <td>ATIL</td>\n",
       "      <td>100</td>\n",
       "      <td>40.0</td>\n",
       "      <td>YAZILIM</td>\n",
       "    </tr>\n",
       "    <tr>\n",
       "      <th>1</th>\n",
       "      <td>ZEYNEP</td>\n",
       "      <td>150</td>\n",
       "      <td>50.0</td>\n",
       "      <td>SATIŞ</td>\n",
       "    </tr>\n",
       "    <tr>\n",
       "      <th>3</th>\n",
       "      <td>AHMET</td>\n",
       "      <td>50</td>\n",
       "      <td>10.0</td>\n",
       "      <td>PAZARLAMA</td>\n",
       "    </tr>\n",
       "    <tr>\n",
       "      <th>5</th>\n",
       "      <td>FATMA</td>\n",
       "      <td>200</td>\n",
       "      <td>25.0</td>\n",
       "      <td>HUKUK</td>\n",
       "    </tr>\n",
       "  </tbody>\n",
       "</table>\n",
       "</div>"
      ],
      "text/plain": [
       "  Unnamed: 0  MAAS   YAS  DEPARTMAN\n",
       "0       ATIL   100  40.0    YAZILIM\n",
       "1     ZEYNEP   150  50.0      SATIŞ\n",
       "3      AHMET    50  10.0  PAZARLAMA\n",
       "5      FATMA   200  25.0      HUKUK"
      ]
     },
     "execution_count": 11,
     "metadata": {},
     "output_type": "execute_result"
    }
   ],
   "source": [
    "doluDegerlerDataFrame=dataFrame.dropna() # sadece dolu olan değerler\n",
    "doluDegerlerDataFrame"
   ]
  },
  {
   "cell_type": "code",
   "execution_count": 12,
   "id": "b38874bc",
   "metadata": {},
   "outputs": [],
   "source": [
    "doluDegerlerDataFrame.to_excel(\"Kitap1.xlsx\")"
   ]
  },
  {
   "cell_type": "code",
   "execution_count": null,
   "id": "665c3551",
   "metadata": {},
   "outputs": [],
   "source": []
  }
 ],
 "metadata": {
  "kernelspec": {
   "display_name": "Python 3 (ipykernel)",
   "language": "python",
   "name": "python3"
  },
  "language_info": {
   "codemirror_mode": {
    "name": "ipython",
    "version": 3
   },
   "file_extension": ".py",
   "mimetype": "text/x-python",
   "name": "python",
   "nbconvert_exporter": "python",
   "pygments_lexer": "ipython3",
   "version": "3.10.9"
  }
 },
 "nbformat": 4,
 "nbformat_minor": 5
}
