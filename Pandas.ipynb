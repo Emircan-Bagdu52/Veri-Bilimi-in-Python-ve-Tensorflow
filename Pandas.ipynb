{
 "cells": [
  {
   "cell_type": "code",
   "execution_count": 1,
   "id": "99b5ed12",
   "metadata": {},
   "outputs": [],
   "source": [
    "# Veri analizi kütüphanesidir.\n",
    "#conda install pandas\n",
    "import numpy as np\n",
    "import pandas as pd\n",
    "\n",
    "\n"
   ]
  },
  {
   "cell_type": "markdown",
   "id": "dcc3b09c",
   "metadata": {},
   "source": [
    "## Seriler / series"
   ]
  },
  {
   "cell_type": "code",
   "execution_count": 2,
   "id": "fd98c63f",
   "metadata": {},
   "outputs": [],
   "source": [
    "benimSozlugum={\"Atil\":50,\"Zeynep\": 40,\"Mehmet\":30}"
   ]
  },
  {
   "cell_type": "code",
   "execution_count": 3,
   "id": "f5ae1908",
   "metadata": {},
   "outputs": [
    {
     "data": {
      "text/plain": [
       "Atil      50\n",
       "Zeynep    40\n",
       "Mehmet    30\n",
       "dtype: int64"
      ]
     },
     "execution_count": 3,
     "metadata": {},
     "output_type": "execute_result"
    }
   ],
   "source": [
    "pd.Series(benimSozlugum) #seri oluşturma"
   ]
  },
  {
   "cell_type": "code",
   "execution_count": 4,
   "id": "61773081",
   "metadata": {},
   "outputs": [],
   "source": [
    "benimYaslarim=[30,40,50]\n",
    "benimİsimlerim=[\"Atil\",\"Zeynep\",\"Mehmet\"]"
   ]
  },
  {
   "cell_type": "code",
   "execution_count": 5,
   "id": "e65f7ed9",
   "metadata": {},
   "outputs": [
    {
     "data": {
      "text/plain": [
       "0    30\n",
       "1    40\n",
       "2    50\n",
       "dtype: int64"
      ]
     },
     "execution_count": 5,
     "metadata": {},
     "output_type": "execute_result"
    }
   ],
   "source": [
    "pd.Series(benimYaslarim)"
   ]
  },
  {
   "cell_type": "code",
   "execution_count": 6,
   "id": "d7057ada",
   "metadata": {},
   "outputs": [
    {
     "data": {
      "text/plain": [
       "Atil      30\n",
       "Zeynep    40\n",
       "Mehmet    50\n",
       "dtype: int64"
      ]
     },
     "execution_count": 6,
     "metadata": {},
     "output_type": "execute_result"
    }
   ],
   "source": [
    "pd.Series(benimYaslarim,benimİsimlerim)"
   ]
  },
  {
   "cell_type": "code",
   "execution_count": 7,
   "id": "13e8175b",
   "metadata": {},
   "outputs": [
    {
     "data": {
      "text/plain": [
       "Atil      30\n",
       "Zeynep    40\n",
       "Mehmet    50\n",
       "dtype: int64"
      ]
     },
     "execution_count": 7,
     "metadata": {},
     "output_type": "execute_result"
    }
   ],
   "source": [
    "pd.Series(data=benimYaslarim,index=benimİsimlerim)"
   ]
  },
  {
   "cell_type": "code",
   "execution_count": 8,
   "id": "4e7589cd",
   "metadata": {},
   "outputs": [],
   "source": [
    "numpyDizisi=np.array([50,40,30])"
   ]
  },
  {
   "cell_type": "code",
   "execution_count": 9,
   "id": "7df8e148",
   "metadata": {},
   "outputs": [
    {
     "data": {
      "text/plain": [
       "array([50, 40, 30])"
      ]
     },
     "execution_count": 9,
     "metadata": {},
     "output_type": "execute_result"
    }
   ],
   "source": [
    "numpyDizisi"
   ]
  },
  {
   "cell_type": "code",
   "execution_count": 10,
   "id": "0c795090",
   "metadata": {},
   "outputs": [
    {
     "data": {
      "text/plain": [
       "0    50\n",
       "1    40\n",
       "2    30\n",
       "dtype: int32"
      ]
     },
     "execution_count": 10,
     "metadata": {},
     "output_type": "execute_result"
    }
   ],
   "source": [
    "pd.Series(numpyDizisi)"
   ]
  },
  {
   "cell_type": "code",
   "execution_count": 11,
   "id": "7ef7d1df",
   "metadata": {},
   "outputs": [
    {
     "data": {
      "text/plain": [
       "Atil      50\n",
       "Zeynep    40\n",
       "Mehmet    30\n",
       "dtype: int32"
      ]
     },
     "execution_count": 11,
     "metadata": {},
     "output_type": "execute_result"
    }
   ],
   "source": [
    "pd.Series(numpyDizisi,benimİsimlerim)"
   ]
  },
  {
   "cell_type": "code",
   "execution_count": 12,
   "id": "690b5fc8",
   "metadata": {},
   "outputs": [
    {
     "data": {
      "text/plain": [
       "1     Atıl\n",
       "2    Atlas\n",
       "3    Osman\n",
       "dtype: object"
      ]
     },
     "execution_count": 12,
     "metadata": {},
     "output_type": "execute_result"
    }
   ],
   "source": [
    "pd.Series([\"Atıl\",\"Atlas\",\"Osman\"],[1,2,3]) # serilere farklı veri türlerini tutabilirler."
   ]
  },
  {
   "cell_type": "code",
   "execution_count": 13,
   "id": "2697460a",
   "metadata": {},
   "outputs": [],
   "source": [
    "yarismaSonucu1=pd.Series([10,5,1],[\"Atıl\",\"Atlas\",\"Osman\"])"
   ]
  },
  {
   "cell_type": "code",
   "execution_count": 14,
   "id": "b12ae424",
   "metadata": {},
   "outputs": [
    {
     "data": {
      "text/plain": [
       "Atıl     10\n",
       "Atlas     5\n",
       "Osman     1\n",
       "dtype: int64"
      ]
     },
     "execution_count": 14,
     "metadata": {},
     "output_type": "execute_result"
    }
   ],
   "source": [
    "yarismaSonucu1"
   ]
  },
  {
   "cell_type": "code",
   "execution_count": 15,
   "id": "d1ae626d",
   "metadata": {},
   "outputs": [],
   "source": [
    "yarismaSonucu2=pd.Series([20,10,8],[\"Atıl\",\"Atlas\",\"Osman\"])"
   ]
  },
  {
   "cell_type": "code",
   "execution_count": 16,
   "id": "b0ca26d2",
   "metadata": {},
   "outputs": [
    {
     "data": {
      "text/plain": [
       "Atıl     20\n",
       "Atlas    10\n",
       "Osman     8\n",
       "dtype: int64"
      ]
     },
     "execution_count": 16,
     "metadata": {},
     "output_type": "execute_result"
    }
   ],
   "source": [
    "yarismaSonucu2"
   ]
  },
  {
   "cell_type": "code",
   "execution_count": 17,
   "id": "b31b9a50",
   "metadata": {},
   "outputs": [
    {
     "data": {
      "text/plain": [
       "10"
      ]
     },
     "execution_count": 17,
     "metadata": {},
     "output_type": "execute_result"
    }
   ],
   "source": [
    "yarismaSonucu2[\"Atlas\"]"
   ]
  },
  {
   "cell_type": "code",
   "execution_count": 18,
   "id": "aee16e7f",
   "metadata": {},
   "outputs": [
    {
     "data": {
      "text/plain": [
       "Atıl     30\n",
       "Atlas    15\n",
       "Osman     9\n",
       "dtype: int64"
      ]
     },
     "execution_count": 18,
     "metadata": {},
     "output_type": "execute_result"
    }
   ],
   "source": [
    "sonSonuc=yarismaSonucu1+yarismaSonucu2\n",
    "sonSonuc"
   ]
  },
  {
   "cell_type": "code",
   "execution_count": 19,
   "id": "89f3c3c5",
   "metadata": {},
   "outputs": [],
   "source": [
    "farkliSeries1=pd.Series([10,20,30,40],[\"A\",\"B\",\"C\",\"D\"])\n",
    "farkliSeries2=pd.Series([50,60,7,80],[\"A\",\"E\",\"C\",\"F\"])"
   ]
  },
  {
   "cell_type": "code",
   "execution_count": 20,
   "id": "ceffcd88",
   "metadata": {},
   "outputs": [
    {
     "data": {
      "text/plain": [
       "A    10\n",
       "B    20\n",
       "C    30\n",
       "D    40\n",
       "dtype: int64"
      ]
     },
     "execution_count": 20,
     "metadata": {},
     "output_type": "execute_result"
    }
   ],
   "source": [
    "farkliSeries1"
   ]
  },
  {
   "cell_type": "code",
   "execution_count": 21,
   "id": "a1e2ca67",
   "metadata": {},
   "outputs": [
    {
     "data": {
      "text/plain": [
       "A    50\n",
       "E    60\n",
       "C     7\n",
       "F    80\n",
       "dtype: int64"
      ]
     },
     "execution_count": 21,
     "metadata": {},
     "output_type": "execute_result"
    }
   ],
   "source": [
    "farkliSeries2"
   ]
  },
  {
   "cell_type": "code",
   "execution_count": 22,
   "id": "6bc88fbb",
   "metadata": {},
   "outputs": [
    {
     "data": {
      "text/plain": [
       "A    60.0\n",
       "B     NaN\n",
       "C    37.0\n",
       "D     NaN\n",
       "E     NaN\n",
       "F     NaN\n",
       "dtype: float64"
      ]
     },
     "execution_count": 22,
     "metadata": {},
     "output_type": "execute_result"
    }
   ],
   "source": [
    "farklıToplam=farkliSeries1+farkliSeries2\n",
    "farklıToplam"
   ]
  },
  {
   "cell_type": "markdown",
   "id": "bf5ed6b6",
   "metadata": {},
   "source": [
    "## Data Frame"
   ]
  },
  {
   "cell_type": "code",
   "execution_count": 77,
   "id": "3a4c3d32",
   "metadata": {},
   "outputs": [],
   "source": [
    "data=np.random.randn(4,3)"
   ]
  },
  {
   "cell_type": "code",
   "execution_count": 78,
   "id": "7d0a9dd2",
   "metadata": {},
   "outputs": [
    {
     "data": {
      "text/plain": [
       "array([[ 1.50921189, -2.29449722, -0.21262559],\n",
       "       [ 0.92003966, -0.69998386,  0.87448604],\n",
       "       [-0.69896716,  0.98004373, -1.02178339],\n",
       "       [-0.59062123,  1.31428364,  0.81656797]])"
      ]
     },
     "execution_count": 78,
     "metadata": {},
     "output_type": "execute_result"
    }
   ],
   "source": [
    "data"
   ]
  },
  {
   "cell_type": "code",
   "execution_count": 79,
   "id": "79896253",
   "metadata": {},
   "outputs": [],
   "source": [
    "dataFrame=pd.DataFrame(data)"
   ]
  },
  {
   "cell_type": "code",
   "execution_count": 80,
   "id": "efea2ae0",
   "metadata": {},
   "outputs": [
    {
     "data": {
      "text/html": [
       "<div>\n",
       "<style scoped>\n",
       "    .dataframe tbody tr th:only-of-type {\n",
       "        vertical-align: middle;\n",
       "    }\n",
       "\n",
       "    .dataframe tbody tr th {\n",
       "        vertical-align: top;\n",
       "    }\n",
       "\n",
       "    .dataframe thead th {\n",
       "        text-align: right;\n",
       "    }\n",
       "</style>\n",
       "<table border=\"1\" class=\"dataframe\">\n",
       "  <thead>\n",
       "    <tr style=\"text-align: right;\">\n",
       "      <th></th>\n",
       "      <th>0</th>\n",
       "      <th>1</th>\n",
       "      <th>2</th>\n",
       "    </tr>\n",
       "  </thead>\n",
       "  <tbody>\n",
       "    <tr>\n",
       "      <th>0</th>\n",
       "      <td>1.509212</td>\n",
       "      <td>-2.294497</td>\n",
       "      <td>-0.212626</td>\n",
       "    </tr>\n",
       "    <tr>\n",
       "      <th>1</th>\n",
       "      <td>0.920040</td>\n",
       "      <td>-0.699984</td>\n",
       "      <td>0.874486</td>\n",
       "    </tr>\n",
       "    <tr>\n",
       "      <th>2</th>\n",
       "      <td>-0.698967</td>\n",
       "      <td>0.980044</td>\n",
       "      <td>-1.021783</td>\n",
       "    </tr>\n",
       "    <tr>\n",
       "      <th>3</th>\n",
       "      <td>-0.590621</td>\n",
       "      <td>1.314284</td>\n",
       "      <td>0.816568</td>\n",
       "    </tr>\n",
       "  </tbody>\n",
       "</table>\n",
       "</div>"
      ],
      "text/plain": [
       "          0         1         2\n",
       "0  1.509212 -2.294497 -0.212626\n",
       "1  0.920040 -0.699984  0.874486\n",
       "2 -0.698967  0.980044 -1.021783\n",
       "3 -0.590621  1.314284  0.816568"
      ]
     },
     "execution_count": 80,
     "metadata": {},
     "output_type": "execute_result"
    }
   ],
   "source": [
    "dataFrame"
   ]
  },
  {
   "cell_type": "code",
   "execution_count": 81,
   "id": "893a9dee",
   "metadata": {},
   "outputs": [
    {
     "data": {
      "text/plain": [
       "pandas.core.frame.DataFrame"
      ]
     },
     "execution_count": 81,
     "metadata": {},
     "output_type": "execute_result"
    }
   ],
   "source": [
    "type(dataFrame)"
   ]
  },
  {
   "cell_type": "code",
   "execution_count": 82,
   "id": "8cfda75e",
   "metadata": {},
   "outputs": [],
   "source": [
    "yeniDataFrame=pd.DataFrame(data,index=[\"Atil\",\"Zeynep\",\"Emircan\",\"Umut\"],columns=[\"MAAS\",\"YAS\",\"ÇALIŞMA SAATİ\"])"
   ]
  },
  {
   "cell_type": "code",
   "execution_count": 83,
   "id": "8804659b",
   "metadata": {},
   "outputs": [
    {
     "data": {
      "text/html": [
       "<div>\n",
       "<style scoped>\n",
       "    .dataframe tbody tr th:only-of-type {\n",
       "        vertical-align: middle;\n",
       "    }\n",
       "\n",
       "    .dataframe tbody tr th {\n",
       "        vertical-align: top;\n",
       "    }\n",
       "\n",
       "    .dataframe thead th {\n",
       "        text-align: right;\n",
       "    }\n",
       "</style>\n",
       "<table border=\"1\" class=\"dataframe\">\n",
       "  <thead>\n",
       "    <tr style=\"text-align: right;\">\n",
       "      <th></th>\n",
       "      <th>MAAS</th>\n",
       "      <th>YAS</th>\n",
       "      <th>ÇALIŞMA SAATİ</th>\n",
       "    </tr>\n",
       "  </thead>\n",
       "  <tbody>\n",
       "    <tr>\n",
       "      <th>Atil</th>\n",
       "      <td>1.509212</td>\n",
       "      <td>-2.294497</td>\n",
       "      <td>-0.212626</td>\n",
       "    </tr>\n",
       "    <tr>\n",
       "      <th>Zeynep</th>\n",
       "      <td>0.920040</td>\n",
       "      <td>-0.699984</td>\n",
       "      <td>0.874486</td>\n",
       "    </tr>\n",
       "    <tr>\n",
       "      <th>Emircan</th>\n",
       "      <td>-0.698967</td>\n",
       "      <td>0.980044</td>\n",
       "      <td>-1.021783</td>\n",
       "    </tr>\n",
       "    <tr>\n",
       "      <th>Umut</th>\n",
       "      <td>-0.590621</td>\n",
       "      <td>1.314284</td>\n",
       "      <td>0.816568</td>\n",
       "    </tr>\n",
       "  </tbody>\n",
       "</table>\n",
       "</div>"
      ],
      "text/plain": [
       "             MAAS       YAS  ÇALIŞMA SAATİ\n",
       "Atil     1.509212 -2.294497      -0.212626\n",
       "Zeynep   0.920040 -0.699984       0.874486\n",
       "Emircan -0.698967  0.980044      -1.021783\n",
       "Umut    -0.590621  1.314284       0.816568"
      ]
     },
     "execution_count": 83,
     "metadata": {},
     "output_type": "execute_result"
    }
   ],
   "source": [
    "yeniDataFrame"
   ]
  },
  {
   "cell_type": "code",
   "execution_count": 84,
   "id": "664d9e5d",
   "metadata": {},
   "outputs": [
    {
     "data": {
      "text/plain": [
       "Atil      -2.294497\n",
       "Zeynep    -0.699984\n",
       "Emircan    0.980044\n",
       "Umut       1.314284\n",
       "Name: YAS, dtype: float64"
      ]
     },
     "execution_count": 84,
     "metadata": {},
     "output_type": "execute_result"
    }
   ],
   "source": [
    "yeniDataFrame[\"YAS\"]"
   ]
  },
  {
   "cell_type": "code",
   "execution_count": 85,
   "id": "0c9ad71a",
   "metadata": {},
   "outputs": [
    {
     "data": {
      "text/html": [
       "<div>\n",
       "<style scoped>\n",
       "    .dataframe tbody tr th:only-of-type {\n",
       "        vertical-align: middle;\n",
       "    }\n",
       "\n",
       "    .dataframe tbody tr th {\n",
       "        vertical-align: top;\n",
       "    }\n",
       "\n",
       "    .dataframe thead th {\n",
       "        text-align: right;\n",
       "    }\n",
       "</style>\n",
       "<table border=\"1\" class=\"dataframe\">\n",
       "  <thead>\n",
       "    <tr style=\"text-align: right;\">\n",
       "      <th></th>\n",
       "      <th>MAAS</th>\n",
       "      <th>YAS</th>\n",
       "    </tr>\n",
       "  </thead>\n",
       "  <tbody>\n",
       "    <tr>\n",
       "      <th>Atil</th>\n",
       "      <td>1.509212</td>\n",
       "      <td>-2.294497</td>\n",
       "    </tr>\n",
       "    <tr>\n",
       "      <th>Zeynep</th>\n",
       "      <td>0.920040</td>\n",
       "      <td>-0.699984</td>\n",
       "    </tr>\n",
       "    <tr>\n",
       "      <th>Emircan</th>\n",
       "      <td>-0.698967</td>\n",
       "      <td>0.980044</td>\n",
       "    </tr>\n",
       "    <tr>\n",
       "      <th>Umut</th>\n",
       "      <td>-0.590621</td>\n",
       "      <td>1.314284</td>\n",
       "    </tr>\n",
       "  </tbody>\n",
       "</table>\n",
       "</div>"
      ],
      "text/plain": [
       "             MAAS       YAS\n",
       "Atil     1.509212 -2.294497\n",
       "Zeynep   0.920040 -0.699984\n",
       "Emircan -0.698967  0.980044\n",
       "Umut    -0.590621  1.314284"
      ]
     },
     "execution_count": 85,
     "metadata": {},
     "output_type": "execute_result"
    }
   ],
   "source": [
    "yeniDataFrame[[\"MAAS\",\"YAS\"]]"
   ]
  },
  {
   "cell_type": "code",
   "execution_count": 86,
   "id": "91fd53ff",
   "metadata": {},
   "outputs": [
    {
     "data": {
      "text/plain": [
       "MAAS             1.509212\n",
       "YAS             -2.294497\n",
       "ÇALIŞMA SAATİ   -0.212626\n",
       "Name: Atil, dtype: float64"
      ]
     },
     "execution_count": 86,
     "metadata": {},
     "output_type": "execute_result"
    }
   ],
   "source": [
    "yeniDataFrame.loc[\"Atil\"] #satırda arama yapma"
   ]
  },
  {
   "cell_type": "code",
   "execution_count": 87,
   "id": "51e811a0",
   "metadata": {},
   "outputs": [
    {
     "data": {
      "text/plain": [
       "MAAS             0.920040\n",
       "YAS             -0.699984\n",
       "ÇALIŞMA SAATİ    0.874486\n",
       "Name: Zeynep, dtype: float64"
      ]
     },
     "execution_count": 87,
     "metadata": {},
     "output_type": "execute_result"
    }
   ],
   "source": [
    "yeniDataFrame.iloc[1] #indeks bazlı arama yapma"
   ]
  },
  {
   "cell_type": "code",
   "execution_count": 88,
   "id": "2dd801b9",
   "metadata": {},
   "outputs": [
    {
     "data": {
      "text/html": [
       "<div>\n",
       "<style scoped>\n",
       "    .dataframe tbody tr th:only-of-type {\n",
       "        vertical-align: middle;\n",
       "    }\n",
       "\n",
       "    .dataframe tbody tr th {\n",
       "        vertical-align: top;\n",
       "    }\n",
       "\n",
       "    .dataframe thead th {\n",
       "        text-align: right;\n",
       "    }\n",
       "</style>\n",
       "<table border=\"1\" class=\"dataframe\">\n",
       "  <thead>\n",
       "    <tr style=\"text-align: right;\">\n",
       "      <th></th>\n",
       "      <th>MAAS</th>\n",
       "      <th>YAS</th>\n",
       "      <th>ÇALIŞMA SAATİ</th>\n",
       "    </tr>\n",
       "  </thead>\n",
       "  <tbody>\n",
       "    <tr>\n",
       "      <th>Atil</th>\n",
       "      <td>1.509212</td>\n",
       "      <td>-2.294497</td>\n",
       "      <td>-0.212626</td>\n",
       "    </tr>\n",
       "    <tr>\n",
       "      <th>Zeynep</th>\n",
       "      <td>0.920040</td>\n",
       "      <td>-0.699984</td>\n",
       "      <td>0.874486</td>\n",
       "    </tr>\n",
       "    <tr>\n",
       "      <th>Emircan</th>\n",
       "      <td>-0.698967</td>\n",
       "      <td>0.980044</td>\n",
       "      <td>-1.021783</td>\n",
       "    </tr>\n",
       "    <tr>\n",
       "      <th>Umut</th>\n",
       "      <td>-0.590621</td>\n",
       "      <td>1.314284</td>\n",
       "      <td>0.816568</td>\n",
       "    </tr>\n",
       "  </tbody>\n",
       "</table>\n",
       "</div>"
      ],
      "text/plain": [
       "             MAAS       YAS  ÇALIŞMA SAATİ\n",
       "Atil     1.509212 -2.294497      -0.212626\n",
       "Zeynep   0.920040 -0.699984       0.874486\n",
       "Emircan -0.698967  0.980044      -1.021783\n",
       "Umut    -0.590621  1.314284       0.816568"
      ]
     },
     "execution_count": 88,
     "metadata": {},
     "output_type": "execute_result"
    }
   ],
   "source": [
    "yeniDataFrame"
   ]
  },
  {
   "cell_type": "code",
   "execution_count": 89,
   "id": "8a22d2a8",
   "metadata": {},
   "outputs": [
    {
     "data": {
      "text/html": [
       "<div>\n",
       "<style scoped>\n",
       "    .dataframe tbody tr th:only-of-type {\n",
       "        vertical-align: middle;\n",
       "    }\n",
       "\n",
       "    .dataframe tbody tr th {\n",
       "        vertical-align: top;\n",
       "    }\n",
       "\n",
       "    .dataframe thead th {\n",
       "        text-align: right;\n",
       "    }\n",
       "</style>\n",
       "<table border=\"1\" class=\"dataframe\">\n",
       "  <thead>\n",
       "    <tr style=\"text-align: right;\">\n",
       "      <th></th>\n",
       "      <th>MAAS</th>\n",
       "      <th>YAS</th>\n",
       "      <th>ÇALIŞMA SAATİ</th>\n",
       "      <th>Emeklilik Yasi</th>\n",
       "    </tr>\n",
       "  </thead>\n",
       "  <tbody>\n",
       "    <tr>\n",
       "      <th>Atil</th>\n",
       "      <td>1.509212</td>\n",
       "      <td>-2.294497</td>\n",
       "      <td>-0.212626</td>\n",
       "      <td>-229.449722</td>\n",
       "    </tr>\n",
       "    <tr>\n",
       "      <th>Zeynep</th>\n",
       "      <td>0.920040</td>\n",
       "      <td>-0.699984</td>\n",
       "      <td>0.874486</td>\n",
       "      <td>-69.998386</td>\n",
       "    </tr>\n",
       "    <tr>\n",
       "      <th>Emircan</th>\n",
       "      <td>-0.698967</td>\n",
       "      <td>0.980044</td>\n",
       "      <td>-1.021783</td>\n",
       "      <td>98.004373</td>\n",
       "    </tr>\n",
       "    <tr>\n",
       "      <th>Umut</th>\n",
       "      <td>-0.590621</td>\n",
       "      <td>1.314284</td>\n",
       "      <td>0.816568</td>\n",
       "      <td>131.428364</td>\n",
       "    </tr>\n",
       "  </tbody>\n",
       "</table>\n",
       "</div>"
      ],
      "text/plain": [
       "             MAAS       YAS  ÇALIŞMA SAATİ  Emeklilik Yasi\n",
       "Atil     1.509212 -2.294497      -0.212626     -229.449722\n",
       "Zeynep   0.920040 -0.699984       0.874486      -69.998386\n",
       "Emircan -0.698967  0.980044      -1.021783       98.004373\n",
       "Umut    -0.590621  1.314284       0.816568      131.428364"
      ]
     },
     "execution_count": 89,
     "metadata": {},
     "output_type": "execute_result"
    }
   ],
   "source": [
    "yeniDataFrame[\"Emeklilik Yasi\"]=yeniDataFrame[\"YAS\"]*100 #Tabloya eyeni sütun ekleme\n",
    "yeniDataFrame"
   ]
  },
  {
   "cell_type": "code",
   "execution_count": 90,
   "id": "78eef45e",
   "metadata": {},
   "outputs": [
    {
     "data": {
      "text/html": [
       "<div>\n",
       "<style scoped>\n",
       "    .dataframe tbody tr th:only-of-type {\n",
       "        vertical-align: middle;\n",
       "    }\n",
       "\n",
       "    .dataframe tbody tr th {\n",
       "        vertical-align: top;\n",
       "    }\n",
       "\n",
       "    .dataframe thead th {\n",
       "        text-align: right;\n",
       "    }\n",
       "</style>\n",
       "<table border=\"1\" class=\"dataframe\">\n",
       "  <thead>\n",
       "    <tr style=\"text-align: right;\">\n",
       "      <th></th>\n",
       "      <th>MAAS</th>\n",
       "      <th>YAS</th>\n",
       "      <th>ÇALIŞMA SAATİ</th>\n",
       "    </tr>\n",
       "  </thead>\n",
       "  <tbody>\n",
       "    <tr>\n",
       "      <th>Atil</th>\n",
       "      <td>1.509212</td>\n",
       "      <td>-2.294497</td>\n",
       "      <td>-0.212626</td>\n",
       "    </tr>\n",
       "    <tr>\n",
       "      <th>Zeynep</th>\n",
       "      <td>0.920040</td>\n",
       "      <td>-0.699984</td>\n",
       "      <td>0.874486</td>\n",
       "    </tr>\n",
       "    <tr>\n",
       "      <th>Emircan</th>\n",
       "      <td>-0.698967</td>\n",
       "      <td>0.980044</td>\n",
       "      <td>-1.021783</td>\n",
       "    </tr>\n",
       "    <tr>\n",
       "      <th>Umut</th>\n",
       "      <td>-0.590621</td>\n",
       "      <td>1.314284</td>\n",
       "      <td>0.816568</td>\n",
       "    </tr>\n",
       "  </tbody>\n",
       "</table>\n",
       "</div>"
      ],
      "text/plain": [
       "             MAAS       YAS  ÇALIŞMA SAATİ\n",
       "Atil     1.509212 -2.294497      -0.212626\n",
       "Zeynep   0.920040 -0.699984       0.874486\n",
       "Emircan -0.698967  0.980044      -1.021783\n",
       "Umut    -0.590621  1.314284       0.816568"
      ]
     },
     "execution_count": 90,
     "metadata": {},
     "output_type": "execute_result"
    }
   ],
   "source": [
    "yeniDataFrame.drop(\"Emeklilik Yasi\",axis=1) #tablodan bir sütun silme"
   ]
  },
  {
   "cell_type": "code",
   "execution_count": 91,
   "id": "4ec4932d",
   "metadata": {},
   "outputs": [
    {
     "data": {
      "text/html": [
       "<div>\n",
       "<style scoped>\n",
       "    .dataframe tbody tr th:only-of-type {\n",
       "        vertical-align: middle;\n",
       "    }\n",
       "\n",
       "    .dataframe tbody tr th {\n",
       "        vertical-align: top;\n",
       "    }\n",
       "\n",
       "    .dataframe thead th {\n",
       "        text-align: right;\n",
       "    }\n",
       "</style>\n",
       "<table border=\"1\" class=\"dataframe\">\n",
       "  <thead>\n",
       "    <tr style=\"text-align: right;\">\n",
       "      <th></th>\n",
       "      <th>MAAS</th>\n",
       "      <th>YAS</th>\n",
       "      <th>ÇALIŞMA SAATİ</th>\n",
       "      <th>Emeklilik Yasi</th>\n",
       "    </tr>\n",
       "  </thead>\n",
       "  <tbody>\n",
       "    <tr>\n",
       "      <th>Atil</th>\n",
       "      <td>1.509212</td>\n",
       "      <td>-2.294497</td>\n",
       "      <td>-0.212626</td>\n",
       "      <td>-229.449722</td>\n",
       "    </tr>\n",
       "    <tr>\n",
       "      <th>Emircan</th>\n",
       "      <td>-0.698967</td>\n",
       "      <td>0.980044</td>\n",
       "      <td>-1.021783</td>\n",
       "      <td>98.004373</td>\n",
       "    </tr>\n",
       "    <tr>\n",
       "      <th>Umut</th>\n",
       "      <td>-0.590621</td>\n",
       "      <td>1.314284</td>\n",
       "      <td>0.816568</td>\n",
       "      <td>131.428364</td>\n",
       "    </tr>\n",
       "  </tbody>\n",
       "</table>\n",
       "</div>"
      ],
      "text/plain": [
       "             MAAS       YAS  ÇALIŞMA SAATİ  Emeklilik Yasi\n",
       "Atil     1.509212 -2.294497      -0.212626     -229.449722\n",
       "Emircan -0.698967  0.980044      -1.021783       98.004373\n",
       "Umut    -0.590621  1.314284       0.816568      131.428364"
      ]
     },
     "execution_count": 91,
     "metadata": {},
     "output_type": "execute_result"
    }
   ],
   "source": [
    "yeniDataFrame.drop(\"Zeynep\") #tablodan 1 satır silme"
   ]
  },
  {
   "cell_type": "code",
   "execution_count": 92,
   "id": "65ef4b01",
   "metadata": {},
   "outputs": [
    {
     "data": {
      "text/html": [
       "<div>\n",
       "<style scoped>\n",
       "    .dataframe tbody tr th:only-of-type {\n",
       "        vertical-align: middle;\n",
       "    }\n",
       "\n",
       "    .dataframe tbody tr th {\n",
       "        vertical-align: top;\n",
       "    }\n",
       "\n",
       "    .dataframe thead th {\n",
       "        text-align: right;\n",
       "    }\n",
       "</style>\n",
       "<table border=\"1\" class=\"dataframe\">\n",
       "  <thead>\n",
       "    <tr style=\"text-align: right;\">\n",
       "      <th></th>\n",
       "      <th>MAAS</th>\n",
       "      <th>YAS</th>\n",
       "      <th>ÇALIŞMA SAATİ</th>\n",
       "      <th>Emeklilik Yasi</th>\n",
       "    </tr>\n",
       "  </thead>\n",
       "  <tbody>\n",
       "    <tr>\n",
       "      <th>Atil</th>\n",
       "      <td>1.509212</td>\n",
       "      <td>-2.294497</td>\n",
       "      <td>-0.212626</td>\n",
       "      <td>-229.449722</td>\n",
       "    </tr>\n",
       "    <tr>\n",
       "      <th>Zeynep</th>\n",
       "      <td>0.920040</td>\n",
       "      <td>-0.699984</td>\n",
       "      <td>0.874486</td>\n",
       "      <td>-69.998386</td>\n",
       "    </tr>\n",
       "    <tr>\n",
       "      <th>Emircan</th>\n",
       "      <td>-0.698967</td>\n",
       "      <td>0.980044</td>\n",
       "      <td>-1.021783</td>\n",
       "      <td>98.004373</td>\n",
       "    </tr>\n",
       "    <tr>\n",
       "      <th>Umut</th>\n",
       "      <td>-0.590621</td>\n",
       "      <td>1.314284</td>\n",
       "      <td>0.816568</td>\n",
       "      <td>131.428364</td>\n",
       "    </tr>\n",
       "  </tbody>\n",
       "</table>\n",
       "</div>"
      ],
      "text/plain": [
       "             MAAS       YAS  ÇALIŞMA SAATİ  Emeklilik Yasi\n",
       "Atil     1.509212 -2.294497      -0.212626     -229.449722\n",
       "Zeynep   0.920040 -0.699984       0.874486      -69.998386\n",
       "Emircan -0.698967  0.980044      -1.021783       98.004373\n",
       "Umut    -0.590621  1.314284       0.816568      131.428364"
      ]
     },
     "execution_count": 92,
     "metadata": {},
     "output_type": "execute_result"
    }
   ],
   "source": [
    "yeniDataFrame #bir önceki yaptığımız işlemler DATE FRAME etki etmedi bunun etki etmesi için farklı şekilde belirtmemiz gerekiyor"
   ]
  },
  {
   "cell_type": "code",
   "execution_count": 93,
   "id": "615a0cc0",
   "metadata": {},
   "outputs": [],
   "source": [
    "yeniDataFrame.drop(\"Emeklilik Yasi\",axis=1,inplace=True) \n",
    "#inplace değeri başlangıç olarak false olarak gelir bu yüzden yaptığımız değişikler etki etmiyor. Eğer DATE FRAME'E etki etmesini istiyorsak inplace değerini True yapmalıyız."
   ]
  },
  {
   "cell_type": "code",
   "execution_count": 94,
   "id": "0377fcf4",
   "metadata": {},
   "outputs": [
    {
     "data": {
      "text/html": [
       "<div>\n",
       "<style scoped>\n",
       "    .dataframe tbody tr th:only-of-type {\n",
       "        vertical-align: middle;\n",
       "    }\n",
       "\n",
       "    .dataframe tbody tr th {\n",
       "        vertical-align: top;\n",
       "    }\n",
       "\n",
       "    .dataframe thead th {\n",
       "        text-align: right;\n",
       "    }\n",
       "</style>\n",
       "<table border=\"1\" class=\"dataframe\">\n",
       "  <thead>\n",
       "    <tr style=\"text-align: right;\">\n",
       "      <th></th>\n",
       "      <th>MAAS</th>\n",
       "      <th>YAS</th>\n",
       "      <th>ÇALIŞMA SAATİ</th>\n",
       "    </tr>\n",
       "  </thead>\n",
       "  <tbody>\n",
       "    <tr>\n",
       "      <th>Atil</th>\n",
       "      <td>1.509212</td>\n",
       "      <td>-2.294497</td>\n",
       "      <td>-0.212626</td>\n",
       "    </tr>\n",
       "    <tr>\n",
       "      <th>Zeynep</th>\n",
       "      <td>0.920040</td>\n",
       "      <td>-0.699984</td>\n",
       "      <td>0.874486</td>\n",
       "    </tr>\n",
       "    <tr>\n",
       "      <th>Emircan</th>\n",
       "      <td>-0.698967</td>\n",
       "      <td>0.980044</td>\n",
       "      <td>-1.021783</td>\n",
       "    </tr>\n",
       "    <tr>\n",
       "      <th>Umut</th>\n",
       "      <td>-0.590621</td>\n",
       "      <td>1.314284</td>\n",
       "      <td>0.816568</td>\n",
       "    </tr>\n",
       "  </tbody>\n",
       "</table>\n",
       "</div>"
      ],
      "text/plain": [
       "             MAAS       YAS  ÇALIŞMA SAATİ\n",
       "Atil     1.509212 -2.294497      -0.212626\n",
       "Zeynep   0.920040 -0.699984       0.874486\n",
       "Emircan -0.698967  0.980044      -1.021783\n",
       "Umut    -0.590621  1.314284       0.816568"
      ]
     },
     "execution_count": 94,
     "metadata": {},
     "output_type": "execute_result"
    }
   ],
   "source": [
    "yeniDataFrame"
   ]
  },
  {
   "cell_type": "code",
   "execution_count": 95,
   "id": "9c8a235a",
   "metadata": {},
   "outputs": [
    {
     "data": {
      "text/plain": [
       "-2.2944972192597723"
      ]
     },
     "execution_count": 95,
     "metadata": {},
     "output_type": "execute_result"
    }
   ],
   "source": [
    "yeniDataFrame.loc[\"Atil\"][\"YAS\"]"
   ]
  },
  {
   "cell_type": "code",
   "execution_count": 96,
   "id": "941dc51c",
   "metadata": {},
   "outputs": [
    {
     "data": {
      "text/html": [
       "<div>\n",
       "<style scoped>\n",
       "    .dataframe tbody tr th:only-of-type {\n",
       "        vertical-align: middle;\n",
       "    }\n",
       "\n",
       "    .dataframe tbody tr th {\n",
       "        vertical-align: top;\n",
       "    }\n",
       "\n",
       "    .dataframe thead th {\n",
       "        text-align: right;\n",
       "    }\n",
       "</style>\n",
       "<table border=\"1\" class=\"dataframe\">\n",
       "  <thead>\n",
       "    <tr style=\"text-align: right;\">\n",
       "      <th></th>\n",
       "      <th>MAAS</th>\n",
       "      <th>YAS</th>\n",
       "      <th>ÇALIŞMA SAATİ</th>\n",
       "    </tr>\n",
       "  </thead>\n",
       "  <tbody>\n",
       "    <tr>\n",
       "      <th>Atil</th>\n",
       "      <td>1.509212</td>\n",
       "      <td>-2.294497</td>\n",
       "      <td>-0.212626</td>\n",
       "    </tr>\n",
       "    <tr>\n",
       "      <th>Zeynep</th>\n",
       "      <td>0.920040</td>\n",
       "      <td>-0.699984</td>\n",
       "      <td>0.874486</td>\n",
       "    </tr>\n",
       "    <tr>\n",
       "      <th>Emircan</th>\n",
       "      <td>-0.698967</td>\n",
       "      <td>0.980044</td>\n",
       "      <td>-1.021783</td>\n",
       "    </tr>\n",
       "    <tr>\n",
       "      <th>Umut</th>\n",
       "      <td>-0.590621</td>\n",
       "      <td>1.314284</td>\n",
       "      <td>0.816568</td>\n",
       "    </tr>\n",
       "  </tbody>\n",
       "</table>\n",
       "</div>"
      ],
      "text/plain": [
       "             MAAS       YAS  ÇALIŞMA SAATİ\n",
       "Atil     1.509212 -2.294497      -0.212626\n",
       "Zeynep   0.920040 -0.699984       0.874486\n",
       "Emircan -0.698967  0.980044      -1.021783\n",
       "Umut    -0.590621  1.314284       0.816568"
      ]
     },
     "execution_count": 96,
     "metadata": {},
     "output_type": "execute_result"
    }
   ],
   "source": [
    "yeniDataFrame.loc[\"Umut\",\"YAS\"]\n",
    "yeniDataFrame"
   ]
  },
  {
   "cell_type": "code",
   "execution_count": 97,
   "id": "cf083216",
   "metadata": {},
   "outputs": [
    {
     "data": {
      "text/html": [
       "<div>\n",
       "<style scoped>\n",
       "    .dataframe tbody tr th:only-of-type {\n",
       "        vertical-align: middle;\n",
       "    }\n",
       "\n",
       "    .dataframe tbody tr th {\n",
       "        vertical-align: top;\n",
       "    }\n",
       "\n",
       "    .dataframe thead th {\n",
       "        text-align: right;\n",
       "    }\n",
       "</style>\n",
       "<table border=\"1\" class=\"dataframe\">\n",
       "  <thead>\n",
       "    <tr style=\"text-align: right;\">\n",
       "      <th></th>\n",
       "      <th>MAAS</th>\n",
       "      <th>YAS</th>\n",
       "      <th>ÇALIŞMA SAATİ</th>\n",
       "    </tr>\n",
       "  </thead>\n",
       "  <tbody>\n",
       "    <tr>\n",
       "      <th>Atil</th>\n",
       "      <td>False</td>\n",
       "      <td>True</td>\n",
       "      <td>True</td>\n",
       "    </tr>\n",
       "    <tr>\n",
       "      <th>Zeynep</th>\n",
       "      <td>False</td>\n",
       "      <td>True</td>\n",
       "      <td>False</td>\n",
       "    </tr>\n",
       "    <tr>\n",
       "      <th>Emircan</th>\n",
       "      <td>True</td>\n",
       "      <td>False</td>\n",
       "      <td>True</td>\n",
       "    </tr>\n",
       "    <tr>\n",
       "      <th>Umut</th>\n",
       "      <td>True</td>\n",
       "      <td>False</td>\n",
       "      <td>False</td>\n",
       "    </tr>\n",
       "  </tbody>\n",
       "</table>\n",
       "</div>"
      ],
      "text/plain": [
       "          MAAS    YAS  ÇALIŞMA SAATİ\n",
       "Atil     False   True           True\n",
       "Zeynep   False   True          False\n",
       "Emircan   True  False           True\n",
       "Umut      True  False          False"
      ]
     },
     "execution_count": 97,
     "metadata": {},
     "output_type": "execute_result"
    }
   ],
   "source": [
    "booleanFrame=yeniDataFrame<0\n",
    "booleanFrame"
   ]
  },
  {
   "cell_type": "code",
   "execution_count": 98,
   "id": "f087f9f5",
   "metadata": {},
   "outputs": [
    {
     "data": {
      "text/html": [
       "<div>\n",
       "<style scoped>\n",
       "    .dataframe tbody tr th:only-of-type {\n",
       "        vertical-align: middle;\n",
       "    }\n",
       "\n",
       "    .dataframe tbody tr th {\n",
       "        vertical-align: top;\n",
       "    }\n",
       "\n",
       "    .dataframe thead th {\n",
       "        text-align: right;\n",
       "    }\n",
       "</style>\n",
       "<table border=\"1\" class=\"dataframe\">\n",
       "  <thead>\n",
       "    <tr style=\"text-align: right;\">\n",
       "      <th></th>\n",
       "      <th>MAAS</th>\n",
       "      <th>YAS</th>\n",
       "      <th>ÇALIŞMA SAATİ</th>\n",
       "    </tr>\n",
       "  </thead>\n",
       "  <tbody>\n",
       "    <tr>\n",
       "      <th>Atil</th>\n",
       "      <td>1.509212</td>\n",
       "      <td>-2.294497</td>\n",
       "      <td>-0.212626</td>\n",
       "    </tr>\n",
       "    <tr>\n",
       "      <th>Zeynep</th>\n",
       "      <td>0.920040</td>\n",
       "      <td>-0.699984</td>\n",
       "      <td>0.874486</td>\n",
       "    </tr>\n",
       "    <tr>\n",
       "      <th>Emircan</th>\n",
       "      <td>-0.698967</td>\n",
       "      <td>0.980044</td>\n",
       "      <td>-1.021783</td>\n",
       "    </tr>\n",
       "    <tr>\n",
       "      <th>Umut</th>\n",
       "      <td>-0.590621</td>\n",
       "      <td>1.314284</td>\n",
       "      <td>0.816568</td>\n",
       "    </tr>\n",
       "  </tbody>\n",
       "</table>\n",
       "</div>"
      ],
      "text/plain": [
       "             MAAS       YAS  ÇALIŞMA SAATİ\n",
       "Atil     1.509212 -2.294497      -0.212626\n",
       "Zeynep   0.920040 -0.699984       0.874486\n",
       "Emircan -0.698967  0.980044      -1.021783\n",
       "Umut    -0.590621  1.314284       0.816568"
      ]
     },
     "execution_count": 98,
     "metadata": {},
     "output_type": "execute_result"
    }
   ],
   "source": [
    "yeniDataFrame"
   ]
  },
  {
   "cell_type": "code",
   "execution_count": 99,
   "id": "db1f81d9",
   "metadata": {},
   "outputs": [
    {
     "data": {
      "text/html": [
       "<div>\n",
       "<style scoped>\n",
       "    .dataframe tbody tr th:only-of-type {\n",
       "        vertical-align: middle;\n",
       "    }\n",
       "\n",
       "    .dataframe tbody tr th {\n",
       "        vertical-align: top;\n",
       "    }\n",
       "\n",
       "    .dataframe thead th {\n",
       "        text-align: right;\n",
       "    }\n",
       "</style>\n",
       "<table border=\"1\" class=\"dataframe\">\n",
       "  <thead>\n",
       "    <tr style=\"text-align: right;\">\n",
       "      <th></th>\n",
       "      <th>MAAS</th>\n",
       "      <th>YAS</th>\n",
       "      <th>ÇALIŞMA SAATİ</th>\n",
       "    </tr>\n",
       "  </thead>\n",
       "  <tbody>\n",
       "    <tr>\n",
       "      <th>Atil</th>\n",
       "      <td>NaN</td>\n",
       "      <td>-2.294497</td>\n",
       "      <td>-0.212626</td>\n",
       "    </tr>\n",
       "    <tr>\n",
       "      <th>Zeynep</th>\n",
       "      <td>NaN</td>\n",
       "      <td>-0.699984</td>\n",
       "      <td>NaN</td>\n",
       "    </tr>\n",
       "    <tr>\n",
       "      <th>Emircan</th>\n",
       "      <td>-0.698967</td>\n",
       "      <td>NaN</td>\n",
       "      <td>-1.021783</td>\n",
       "    </tr>\n",
       "    <tr>\n",
       "      <th>Umut</th>\n",
       "      <td>-0.590621</td>\n",
       "      <td>NaN</td>\n",
       "      <td>NaN</td>\n",
       "    </tr>\n",
       "  </tbody>\n",
       "</table>\n",
       "</div>"
      ],
      "text/plain": [
       "             MAAS       YAS  ÇALIŞMA SAATİ\n",
       "Atil          NaN -2.294497      -0.212626\n",
       "Zeynep        NaN -0.699984            NaN\n",
       "Emircan -0.698967       NaN      -1.021783\n",
       "Umut    -0.590621       NaN            NaN"
      ]
     },
     "execution_count": 99,
     "metadata": {},
     "output_type": "execute_result"
    }
   ],
   "source": [
    "yeniDataFrame[booleanFrame] #sadece sıfırdan küçük değerleri gösteriyor."
   ]
  },
  {
   "cell_type": "code",
   "execution_count": 100,
   "id": "56d5dfdd",
   "metadata": {},
   "outputs": [
    {
     "data": {
      "text/html": [
       "<div>\n",
       "<style scoped>\n",
       "    .dataframe tbody tr th:only-of-type {\n",
       "        vertical-align: middle;\n",
       "    }\n",
       "\n",
       "    .dataframe tbody tr th {\n",
       "        vertical-align: top;\n",
       "    }\n",
       "\n",
       "    .dataframe thead th {\n",
       "        text-align: right;\n",
       "    }\n",
       "</style>\n",
       "<table border=\"1\" class=\"dataframe\">\n",
       "  <thead>\n",
       "    <tr style=\"text-align: right;\">\n",
       "      <th></th>\n",
       "      <th>MAAS</th>\n",
       "      <th>YAS</th>\n",
       "      <th>ÇALIŞMA SAATİ</th>\n",
       "    </tr>\n",
       "  </thead>\n",
       "  <tbody>\n",
       "    <tr>\n",
       "      <th>Atil</th>\n",
       "      <td>NaN</td>\n",
       "      <td>-2.294497</td>\n",
       "      <td>-0.212626</td>\n",
       "    </tr>\n",
       "    <tr>\n",
       "      <th>Zeynep</th>\n",
       "      <td>NaN</td>\n",
       "      <td>-0.699984</td>\n",
       "      <td>NaN</td>\n",
       "    </tr>\n",
       "    <tr>\n",
       "      <th>Emircan</th>\n",
       "      <td>-0.698967</td>\n",
       "      <td>NaN</td>\n",
       "      <td>-1.021783</td>\n",
       "    </tr>\n",
       "    <tr>\n",
       "      <th>Umut</th>\n",
       "      <td>-0.590621</td>\n",
       "      <td>NaN</td>\n",
       "      <td>NaN</td>\n",
       "    </tr>\n",
       "  </tbody>\n",
       "</table>\n",
       "</div>"
      ],
      "text/plain": [
       "             MAAS       YAS  ÇALIŞMA SAATİ\n",
       "Atil          NaN -2.294497      -0.212626\n",
       "Zeynep        NaN -0.699984            NaN\n",
       "Emircan -0.698967       NaN      -1.021783\n",
       "Umut    -0.590621       NaN            NaN"
      ]
     },
     "execution_count": 100,
     "metadata": {},
     "output_type": "execute_result"
    }
   ],
   "source": [
    "yeniDataFrame[yeniDataFrame<0]"
   ]
  },
  {
   "cell_type": "code",
   "execution_count": 101,
   "id": "46c37776",
   "metadata": {},
   "outputs": [
    {
     "data": {
      "text/html": [
       "<div>\n",
       "<style scoped>\n",
       "    .dataframe tbody tr th:only-of-type {\n",
       "        vertical-align: middle;\n",
       "    }\n",
       "\n",
       "    .dataframe tbody tr th {\n",
       "        vertical-align: top;\n",
       "    }\n",
       "\n",
       "    .dataframe thead th {\n",
       "        text-align: right;\n",
       "    }\n",
       "</style>\n",
       "<table border=\"1\" class=\"dataframe\">\n",
       "  <thead>\n",
       "    <tr style=\"text-align: right;\">\n",
       "      <th></th>\n",
       "      <th>MAAS</th>\n",
       "      <th>YAS</th>\n",
       "      <th>ÇALIŞMA SAATİ</th>\n",
       "    </tr>\n",
       "  </thead>\n",
       "  <tbody>\n",
       "    <tr>\n",
       "      <th>Emircan</th>\n",
       "      <td>-0.698967</td>\n",
       "      <td>0.980044</td>\n",
       "      <td>-1.021783</td>\n",
       "    </tr>\n",
       "    <tr>\n",
       "      <th>Umut</th>\n",
       "      <td>-0.590621</td>\n",
       "      <td>1.314284</td>\n",
       "      <td>0.816568</td>\n",
       "    </tr>\n",
       "  </tbody>\n",
       "</table>\n",
       "</div>"
      ],
      "text/plain": [
       "             MAAS       YAS  ÇALIŞMA SAATİ\n",
       "Emircan -0.698967  0.980044      -1.021783\n",
       "Umut    -0.590621  1.314284       0.816568"
      ]
     },
     "execution_count": 101,
     "metadata": {},
     "output_type": "execute_result"
    }
   ],
   "source": [
    "yeniDataFrame[yeniDataFrame[\"YAS\"]>0] #YAŞI 0 dan büyük olan satırlarrı getiriyor sadece"
   ]
  },
  {
   "cell_type": "code",
   "execution_count": 102,
   "id": "d85b2de5",
   "metadata": {},
   "outputs": [],
   "source": [
    "yeniIndexListesi=[\"A\",\"B\",\"c\",\"D\"]"
   ]
  },
  {
   "cell_type": "code",
   "execution_count": 103,
   "id": "69896658",
   "metadata": {},
   "outputs": [],
   "source": [
    "yeniDataFrame[\"Yeni Indeks\"]=yeniIndexListesi"
   ]
  },
  {
   "cell_type": "code",
   "execution_count": 104,
   "id": "dc0155aa",
   "metadata": {},
   "outputs": [
    {
     "data": {
      "text/html": [
       "<div>\n",
       "<style scoped>\n",
       "    .dataframe tbody tr th:only-of-type {\n",
       "        vertical-align: middle;\n",
       "    }\n",
       "\n",
       "    .dataframe tbody tr th {\n",
       "        vertical-align: top;\n",
       "    }\n",
       "\n",
       "    .dataframe thead th {\n",
       "        text-align: right;\n",
       "    }\n",
       "</style>\n",
       "<table border=\"1\" class=\"dataframe\">\n",
       "  <thead>\n",
       "    <tr style=\"text-align: right;\">\n",
       "      <th></th>\n",
       "      <th>MAAS</th>\n",
       "      <th>YAS</th>\n",
       "      <th>ÇALIŞMA SAATİ</th>\n",
       "      <th>Yeni Indeks</th>\n",
       "    </tr>\n",
       "  </thead>\n",
       "  <tbody>\n",
       "    <tr>\n",
       "      <th>Atil</th>\n",
       "      <td>1.509212</td>\n",
       "      <td>-2.294497</td>\n",
       "      <td>-0.212626</td>\n",
       "      <td>A</td>\n",
       "    </tr>\n",
       "    <tr>\n",
       "      <th>Zeynep</th>\n",
       "      <td>0.920040</td>\n",
       "      <td>-0.699984</td>\n",
       "      <td>0.874486</td>\n",
       "      <td>B</td>\n",
       "    </tr>\n",
       "    <tr>\n",
       "      <th>Emircan</th>\n",
       "      <td>-0.698967</td>\n",
       "      <td>0.980044</td>\n",
       "      <td>-1.021783</td>\n",
       "      <td>c</td>\n",
       "    </tr>\n",
       "    <tr>\n",
       "      <th>Umut</th>\n",
       "      <td>-0.590621</td>\n",
       "      <td>1.314284</td>\n",
       "      <td>0.816568</td>\n",
       "      <td>D</td>\n",
       "    </tr>\n",
       "  </tbody>\n",
       "</table>\n",
       "</div>"
      ],
      "text/plain": [
       "             MAAS       YAS  ÇALIŞMA SAATİ Yeni Indeks\n",
       "Atil     1.509212 -2.294497      -0.212626           A\n",
       "Zeynep   0.920040 -0.699984       0.874486           B\n",
       "Emircan -0.698967  0.980044      -1.021783           c\n",
       "Umut    -0.590621  1.314284       0.816568           D"
      ]
     },
     "execution_count": 104,
     "metadata": {},
     "output_type": "execute_result"
    }
   ],
   "source": [
    "yeniDataFrame"
   ]
  },
  {
   "cell_type": "code",
   "execution_count": 105,
   "id": "4617c455",
   "metadata": {},
   "outputs": [],
   "source": [
    "yeniDataFrame.set_index(\"Yeni Indeks\",inplace=True)\n",
    "#yeni indeks sütununu index olarak ayarladık. Kalıcı olması için inplace değerinin True yaptık."
   ]
  },
  {
   "cell_type": "code",
   "execution_count": 106,
   "id": "716bd3b5",
   "metadata": {},
   "outputs": [
    {
     "data": {
      "text/html": [
       "<div>\n",
       "<style scoped>\n",
       "    .dataframe tbody tr th:only-of-type {\n",
       "        vertical-align: middle;\n",
       "    }\n",
       "\n",
       "    .dataframe tbody tr th {\n",
       "        vertical-align: top;\n",
       "    }\n",
       "\n",
       "    .dataframe thead th {\n",
       "        text-align: right;\n",
       "    }\n",
       "</style>\n",
       "<table border=\"1\" class=\"dataframe\">\n",
       "  <thead>\n",
       "    <tr style=\"text-align: right;\">\n",
       "      <th></th>\n",
       "      <th>MAAS</th>\n",
       "      <th>YAS</th>\n",
       "      <th>ÇALIŞMA SAATİ</th>\n",
       "    </tr>\n",
       "    <tr>\n",
       "      <th>Yeni Indeks</th>\n",
       "      <th></th>\n",
       "      <th></th>\n",
       "      <th></th>\n",
       "    </tr>\n",
       "  </thead>\n",
       "  <tbody>\n",
       "    <tr>\n",
       "      <th>A</th>\n",
       "      <td>1.509212</td>\n",
       "      <td>-2.294497</td>\n",
       "      <td>-0.212626</td>\n",
       "    </tr>\n",
       "    <tr>\n",
       "      <th>B</th>\n",
       "      <td>0.920040</td>\n",
       "      <td>-0.699984</td>\n",
       "      <td>0.874486</td>\n",
       "    </tr>\n",
       "    <tr>\n",
       "      <th>c</th>\n",
       "      <td>-0.698967</td>\n",
       "      <td>0.980044</td>\n",
       "      <td>-1.021783</td>\n",
       "    </tr>\n",
       "    <tr>\n",
       "      <th>D</th>\n",
       "      <td>-0.590621</td>\n",
       "      <td>1.314284</td>\n",
       "      <td>0.816568</td>\n",
       "    </tr>\n",
       "  </tbody>\n",
       "</table>\n",
       "</div>"
      ],
      "text/plain": [
       "                 MAAS       YAS  ÇALIŞMA SAATİ\n",
       "Yeni Indeks                                   \n",
       "A            1.509212 -2.294497      -0.212626\n",
       "B            0.920040 -0.699984       0.874486\n",
       "c           -0.698967  0.980044      -1.021783\n",
       "D           -0.590621  1.314284       0.816568"
      ]
     },
     "execution_count": 106,
     "metadata": {},
     "output_type": "execute_result"
    }
   ],
   "source": [
    "yeniDataFrame"
   ]
  },
  {
   "cell_type": "code",
   "execution_count": 107,
   "id": "c6fca211",
   "metadata": {},
   "outputs": [],
   "source": [
    "ilkIndeksler=[\"Simpson\",\"Simpson\",\"Simpson\",\"South Park\",\"South Park\",\"South Park\"]"
   ]
  },
  {
   "cell_type": "code",
   "execution_count": 108,
   "id": "64c04599",
   "metadata": {},
   "outputs": [],
   "source": [
    "icIndexler=[\"Homer\",\"Bard\",\"Marge\",\"Cartman\",\"Kenny\",\"Kyle\"]"
   ]
  },
  {
   "cell_type": "code",
   "execution_count": 109,
   "id": "e24cd8bf",
   "metadata": {},
   "outputs": [],
   "source": [
    "birlesmisIndexler=list(zip(ilkIndeksler,icIndexler))"
   ]
  },
  {
   "cell_type": "code",
   "execution_count": 110,
   "id": "bb05e4d5",
   "metadata": {},
   "outputs": [
    {
     "data": {
      "text/plain": [
       "[('Simpson', 'Homer'),\n",
       " ('Simpson', 'Bard'),\n",
       " ('Simpson', 'Marge'),\n",
       " ('South Park', 'Cartman'),\n",
       " ('South Park', 'Kenny'),\n",
       " ('South Park', 'Kyle')]"
      ]
     },
     "execution_count": 110,
     "metadata": {},
     "output_type": "execute_result"
    }
   ],
   "source": [
    "birlesmisIndexler"
   ]
  },
  {
   "cell_type": "code",
   "execution_count": 112,
   "id": "09866ed9",
   "metadata": {},
   "outputs": [],
   "source": [
    "birlesmisIndexler=pd.MultiIndex.from_tuples(birlesmisIndexler)"
   ]
  },
  {
   "cell_type": "code",
   "execution_count": 113,
   "id": "b4dcac1c",
   "metadata": {},
   "outputs": [
    {
     "data": {
      "text/plain": [
       "MultiIndex([(   'Simpson',   'Homer'),\n",
       "            (   'Simpson',    'Bard'),\n",
       "            (   'Simpson',   'Marge'),\n",
       "            ('South Park', 'Cartman'),\n",
       "            ('South Park',   'Kenny'),\n",
       "            ('South Park',    'Kyle')],\n",
       "           )"
      ]
     },
     "execution_count": 113,
     "metadata": {},
     "output_type": "execute_result"
    }
   ],
   "source": [
    "birlesmisIndexler"
   ]
  },
  {
   "cell_type": "code",
   "execution_count": 114,
   "id": "46a51529",
   "metadata": {},
   "outputs": [],
   "source": [
    "benimCizgiFilmListem=[[40,\"A\"],[10,\"B\"],[30,\"C\"],[9,\"D\"],[10,\"E\"],[11,\"F\"]]"
   ]
  },
  {
   "cell_type": "code",
   "execution_count": 115,
   "id": "4fffe446",
   "metadata": {},
   "outputs": [],
   "source": [
    "cizgiFilmNumpyDisizi=np.array(benimCizgiFilmListem)"
   ]
  },
  {
   "cell_type": "code",
   "execution_count": 118,
   "id": "cb50f2d4",
   "metadata": {},
   "outputs": [],
   "source": [
    "cizgiFilmDataFrame=pd.DataFrame(cizgiFilmNumpyDisizi,index=birlesmisIndexler,columns=[\"YAS\",\"Meslek\"])"
   ]
  },
  {
   "cell_type": "code",
   "execution_count": 119,
   "id": "ddcb3343",
   "metadata": {},
   "outputs": [
    {
     "data": {
      "text/html": [
       "<div>\n",
       "<style scoped>\n",
       "    .dataframe tbody tr th:only-of-type {\n",
       "        vertical-align: middle;\n",
       "    }\n",
       "\n",
       "    .dataframe tbody tr th {\n",
       "        vertical-align: top;\n",
       "    }\n",
       "\n",
       "    .dataframe thead th {\n",
       "        text-align: right;\n",
       "    }\n",
       "</style>\n",
       "<table border=\"1\" class=\"dataframe\">\n",
       "  <thead>\n",
       "    <tr style=\"text-align: right;\">\n",
       "      <th></th>\n",
       "      <th></th>\n",
       "      <th>YAS</th>\n",
       "      <th>Meslek</th>\n",
       "    </tr>\n",
       "  </thead>\n",
       "  <tbody>\n",
       "    <tr>\n",
       "      <th rowspan=\"3\" valign=\"top\">Simpson</th>\n",
       "      <th>Homer</th>\n",
       "      <td>40</td>\n",
       "      <td>A</td>\n",
       "    </tr>\n",
       "    <tr>\n",
       "      <th>Bard</th>\n",
       "      <td>10</td>\n",
       "      <td>B</td>\n",
       "    </tr>\n",
       "    <tr>\n",
       "      <th>Marge</th>\n",
       "      <td>30</td>\n",
       "      <td>C</td>\n",
       "    </tr>\n",
       "    <tr>\n",
       "      <th rowspan=\"3\" valign=\"top\">South Park</th>\n",
       "      <th>Cartman</th>\n",
       "      <td>9</td>\n",
       "      <td>D</td>\n",
       "    </tr>\n",
       "    <tr>\n",
       "      <th>Kenny</th>\n",
       "      <td>10</td>\n",
       "      <td>E</td>\n",
       "    </tr>\n",
       "    <tr>\n",
       "      <th>Kyle</th>\n",
       "      <td>11</td>\n",
       "      <td>F</td>\n",
       "    </tr>\n",
       "  </tbody>\n",
       "</table>\n",
       "</div>"
      ],
      "text/plain": [
       "                   YAS Meslek\n",
       "Simpson    Homer    40      A\n",
       "           Bard     10      B\n",
       "           Marge    30      C\n",
       "South Park Cartman   9      D\n",
       "           Kenny    10      E\n",
       "           Kyle     11      F"
      ]
     },
     "execution_count": 119,
     "metadata": {},
     "output_type": "execute_result"
    }
   ],
   "source": [
    "cizgiFilmDataFrame"
   ]
  },
  {
   "cell_type": "code",
   "execution_count": 120,
   "id": "459d0fc4",
   "metadata": {},
   "outputs": [
    {
     "data": {
      "text/html": [
       "<div>\n",
       "<style scoped>\n",
       "    .dataframe tbody tr th:only-of-type {\n",
       "        vertical-align: middle;\n",
       "    }\n",
       "\n",
       "    .dataframe tbody tr th {\n",
       "        vertical-align: top;\n",
       "    }\n",
       "\n",
       "    .dataframe thead th {\n",
       "        text-align: right;\n",
       "    }\n",
       "</style>\n",
       "<table border=\"1\" class=\"dataframe\">\n",
       "  <thead>\n",
       "    <tr style=\"text-align: right;\">\n",
       "      <th></th>\n",
       "      <th>YAS</th>\n",
       "      <th>Meslek</th>\n",
       "    </tr>\n",
       "  </thead>\n",
       "  <tbody>\n",
       "    <tr>\n",
       "      <th>Homer</th>\n",
       "      <td>40</td>\n",
       "      <td>A</td>\n",
       "    </tr>\n",
       "    <tr>\n",
       "      <th>Bard</th>\n",
       "      <td>10</td>\n",
       "      <td>B</td>\n",
       "    </tr>\n",
       "    <tr>\n",
       "      <th>Marge</th>\n",
       "      <td>30</td>\n",
       "      <td>C</td>\n",
       "    </tr>\n",
       "  </tbody>\n",
       "</table>\n",
       "</div>"
      ],
      "text/plain": [
       "      YAS Meslek\n",
       "Homer  40      A\n",
       "Bard   10      B\n",
       "Marge  30      C"
      ]
     },
     "execution_count": 120,
     "metadata": {},
     "output_type": "execute_result"
    }
   ],
   "source": [
    "cizgiFilmDataFrame.loc[\"Simpson\"]"
   ]
  },
  {
   "cell_type": "code",
   "execution_count": 121,
   "id": "c482fd64",
   "metadata": {},
   "outputs": [
    {
     "data": {
      "text/plain": [
       "YAS       10\n",
       "Meslek     E\n",
       "Name: Kenny, dtype: object"
      ]
     },
     "execution_count": 121,
     "metadata": {},
     "output_type": "execute_result"
    }
   ],
   "source": [
    "cizgiFilmDataFrame.loc[\"South Park\"].loc[\"Kenny\"]"
   ]
  },
  {
   "cell_type": "code",
   "execution_count": 123,
   "id": "48047f46",
   "metadata": {},
   "outputs": [
    {
     "data": {
      "text/html": [
       "<div>\n",
       "<style scoped>\n",
       "    .dataframe tbody tr th:only-of-type {\n",
       "        vertical-align: middle;\n",
       "    }\n",
       "\n",
       "    .dataframe tbody tr th {\n",
       "        vertical-align: top;\n",
       "    }\n",
       "\n",
       "    .dataframe thead th {\n",
       "        text-align: right;\n",
       "    }\n",
       "</style>\n",
       "<table border=\"1\" class=\"dataframe\">\n",
       "  <thead>\n",
       "    <tr style=\"text-align: right;\">\n",
       "      <th></th>\n",
       "      <th></th>\n",
       "      <th>YAS</th>\n",
       "      <th>Meslek</th>\n",
       "    </tr>\n",
       "  </thead>\n",
       "  <tbody>\n",
       "    <tr>\n",
       "      <th rowspan=\"3\" valign=\"top\">Simpson</th>\n",
       "      <th>Homer</th>\n",
       "      <td>40</td>\n",
       "      <td>A</td>\n",
       "    </tr>\n",
       "    <tr>\n",
       "      <th>Bard</th>\n",
       "      <td>10</td>\n",
       "      <td>B</td>\n",
       "    </tr>\n",
       "    <tr>\n",
       "      <th>Marge</th>\n",
       "      <td>30</td>\n",
       "      <td>C</td>\n",
       "    </tr>\n",
       "    <tr>\n",
       "      <th rowspan=\"3\" valign=\"top\">South Park</th>\n",
       "      <th>Cartman</th>\n",
       "      <td>9</td>\n",
       "      <td>D</td>\n",
       "    </tr>\n",
       "    <tr>\n",
       "      <th>Kenny</th>\n",
       "      <td>10</td>\n",
       "      <td>E</td>\n",
       "    </tr>\n",
       "    <tr>\n",
       "      <th>Kyle</th>\n",
       "      <td>11</td>\n",
       "      <td>F</td>\n",
       "    </tr>\n",
       "  </tbody>\n",
       "</table>\n",
       "</div>"
      ],
      "text/plain": [
       "                   YAS Meslek\n",
       "Simpson    Homer    40      A\n",
       "           Bard     10      B\n",
       "           Marge    30      C\n",
       "South Park Cartman   9      D\n",
       "           Kenny    10      E\n",
       "           Kyle     11      F"
      ]
     },
     "execution_count": 123,
     "metadata": {},
     "output_type": "execute_result"
    }
   ],
   "source": [
    "cizgiFilmDataFrame"
   ]
  },
  {
   "cell_type": "code",
   "execution_count": 124,
   "id": "935dacca",
   "metadata": {},
   "outputs": [],
   "source": [
    "cizgiFilmDataFrame.index.names=[\"Çizgi Film Adı\",\"İsim\"]"
   ]
  },
  {
   "cell_type": "code",
   "execution_count": 125,
   "id": "27ef2ddd",
   "metadata": {},
   "outputs": [
    {
     "data": {
      "text/html": [
       "<div>\n",
       "<style scoped>\n",
       "    .dataframe tbody tr th:only-of-type {\n",
       "        vertical-align: middle;\n",
       "    }\n",
       "\n",
       "    .dataframe tbody tr th {\n",
       "        vertical-align: top;\n",
       "    }\n",
       "\n",
       "    .dataframe thead th {\n",
       "        text-align: right;\n",
       "    }\n",
       "</style>\n",
       "<table border=\"1\" class=\"dataframe\">\n",
       "  <thead>\n",
       "    <tr style=\"text-align: right;\">\n",
       "      <th></th>\n",
       "      <th></th>\n",
       "      <th>YAS</th>\n",
       "      <th>Meslek</th>\n",
       "    </tr>\n",
       "    <tr>\n",
       "      <th>Çizgi Film Adı</th>\n",
       "      <th>İsim</th>\n",
       "      <th></th>\n",
       "      <th></th>\n",
       "    </tr>\n",
       "  </thead>\n",
       "  <tbody>\n",
       "    <tr>\n",
       "      <th rowspan=\"3\" valign=\"top\">Simpson</th>\n",
       "      <th>Homer</th>\n",
       "      <td>40</td>\n",
       "      <td>A</td>\n",
       "    </tr>\n",
       "    <tr>\n",
       "      <th>Bard</th>\n",
       "      <td>10</td>\n",
       "      <td>B</td>\n",
       "    </tr>\n",
       "    <tr>\n",
       "      <th>Marge</th>\n",
       "      <td>30</td>\n",
       "      <td>C</td>\n",
       "    </tr>\n",
       "    <tr>\n",
       "      <th rowspan=\"3\" valign=\"top\">South Park</th>\n",
       "      <th>Cartman</th>\n",
       "      <td>9</td>\n",
       "      <td>D</td>\n",
       "    </tr>\n",
       "    <tr>\n",
       "      <th>Kenny</th>\n",
       "      <td>10</td>\n",
       "      <td>E</td>\n",
       "    </tr>\n",
       "    <tr>\n",
       "      <th>Kyle</th>\n",
       "      <td>11</td>\n",
       "      <td>F</td>\n",
       "    </tr>\n",
       "  </tbody>\n",
       "</table>\n",
       "</div>"
      ],
      "text/plain": [
       "                       YAS Meslek\n",
       "Çizgi Film Adı İsim              \n",
       "Simpson        Homer    40      A\n",
       "               Bard     10      B\n",
       "               Marge    30      C\n",
       "South Park     Cartman   9      D\n",
       "               Kenny    10      E\n",
       "               Kyle     11      F"
      ]
     },
     "execution_count": 125,
     "metadata": {},
     "output_type": "execute_result"
    }
   ],
   "source": [
    "cizgiFilmDataFrame"
   ]
  },
  {
   "cell_type": "code",
   "execution_count": null,
   "id": "bb81b8ee",
   "metadata": {},
   "outputs": [],
   "source": []
  }
 ],
 "metadata": {
  "kernelspec": {
   "display_name": "Python 3 (ipykernel)",
   "language": "python",
   "name": "python3"
  },
  "language_info": {
   "codemirror_mode": {
    "name": "ipython",
    "version": 3
   },
   "file_extension": ".py",
   "mimetype": "text/x-python",
   "name": "python",
   "nbconvert_exporter": "python",
   "pygments_lexer": "ipython3",
   "version": "3.10.9"
  }
 },
 "nbformat": 4,
 "nbformat_minor": 5
}
